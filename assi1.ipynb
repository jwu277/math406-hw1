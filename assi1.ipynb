{
 "cells": [
  {
   "cell_type": "markdown",
   "id": "featured-brunei",
   "metadata": {},
   "source": [
    "# MATH 406 Assignment 1"
   ]
  },
  {
   "cell_type": "markdown",
   "id": "confident-jewelry",
   "metadata": {},
   "source": [
    "**Name:** James Wu\\\n",
    "**Student number:** 92277235"
   ]
  },
  {
   "cell_type": "code",
   "execution_count": 2,
   "id": "institutional-hobby",
   "metadata": {},
   "outputs": [],
   "source": [
    "### IMPORTS ###\n",
    "import numpy as np\n",
    "import matplotlib.pyplot as plt\n",
    "from scipy.interpolate import approximate_taylor_polynomial as taylor"
   ]
  },
  {
   "cell_type": "markdown",
   "id": "organized-differential",
   "metadata": {},
   "source": [
    "## Q1"
   ]
  },
  {
   "cell_type": "markdown",
   "id": "derived-furniture",
   "metadata": {},
   "source": [
    "### Q1(a)"
   ]
  },
  {
   "cell_type": "markdown",
   "id": "accurate-stack",
   "metadata": {},
   "source": [
    "With 2 points, we use linear interpolation. Solving for $a$ and $b$ in the interpolating function $L(x) = ax + b$ using $L(0) = 0$ and $L(1) = 1$ gives us\n",
    "$$L(x) = x$$\n",
    "on $[0,1]$. Then $f(1/2) \\approx L(1/2)$, so\n",
    "$$\\boxed{f(1/2) \\approx 1/2}$$"
   ]
  },
  {
   "cell_type": "code",
   "execution_count": 5,
   "id": "taken-diversity",
   "metadata": {},
   "outputs": [
    {
     "name": "stdout",
     "output_type": "stream",
     "text": [
      "Polynomial coeffs: [1. 0.]\n",
      "f(1/2): 0.5\n"
     ]
    }
   ],
   "source": [
    "# Given data\n",
    "x = np.array([0, 1])\n",
    "y = np.array([0, 1])\n",
    "\n",
    "# Polynomial coeffs\n",
    "c = np.linalg.solve(np.vander(x), y)\n",
    "print(f'Polynomial coeffs: {c}')\n",
    "\n",
    "# Evaluate f(1/2)\n",
    "ans = np.polyval(c, 1/2)\n",
    "print(f'f(1/2): {ans}')"
   ]
  },
  {
   "cell_type": "markdown",
   "id": "hawaiian-illness",
   "metadata": {},
   "source": [
    "### Q1(b)"
   ]
  },
  {
   "cell_type": "markdown",
   "id": "noticed-craft",
   "metadata": {},
   "source": [
    "With 3 points, we use quadratic interpolation. Solving for $a$, $b$, and $c$ in the interpolating function $Q(x) = ax^2 + bx + c$ using $Q(0) = 0$, $Q(1) = 1$, and $Q(-1) = 1/2$ gives us\n",
    "$$Q(x) = \\frac{3}{4}x^2 + \\frac{1}{4}x$$\n",
    "on $[-1,1]$. Then $f(1/2) \\approx Q(1/2)$, so\n",
    "$$\\boxed{f(1/2) \\approx 5/16}$$"
   ]
  },
  {
   "cell_type": "code",
   "execution_count": 7,
   "id": "editorial-market",
   "metadata": {},
   "outputs": [
    {
     "name": "stdout",
     "output_type": "stream",
     "text": [
      "Polynomial coeffs: [0.75 0.25 0.  ]\n",
      "f(1/2): 0.3125\n"
     ]
    }
   ],
   "source": [
    "# Given data\n",
    "x = np.array([0, 1, -1])\n",
    "y = np.array([0, 1, 1/2])\n",
    "\n",
    "# Polynomial coeffs\n",
    "c = np.linalg.solve(np.vander(x), y)\n",
    "print(f'Polynomial coeffs: {c}')\n",
    "\n",
    "# Evaluate f(1/2)\n",
    "ans = np.polyval(c, 1/2)\n",
    "print(f'f(1/2): {ans}')"
   ]
  },
  {
   "cell_type": "markdown",
   "id": "twelve-helicopter",
   "metadata": {},
   "source": [
    "### Q1(c)"
   ]
  },
  {
   "cell_type": "markdown",
   "id": "identified-guatemala",
   "metadata": {},
   "source": [
    "With 4 points, we use cubic interpolation. Solving for $a$, $b$, $c$, and $d$ in the interpolating function $C(x) = ax^3 + bx^2 + cx + d$ using $C(0) = 0$, $C(1) = 1$, $C(-1) = 1/2$, and $C(2) = 2$ gives us\n",
    "$$C(x) = -\\frac{1}{4}x^3 + \\frac{3}{4}x^2 + \\frac{1}{2}x$$\n",
    "$$C'(x) = -\\frac{3}{4}x^2 + \\frac{3}{2}x + \\frac{1}{2}$$\n",
    "on $[-1,2]$. Then $f'(0) \\approx C'(0)$, so\n",
    "$$\\boxed{f'(0) \\approx 1/2}$$"
   ]
  },
  {
   "cell_type": "code",
   "execution_count": 9,
   "id": "grand-father",
   "metadata": {
    "scrolled": true
   },
   "outputs": [
    {
     "name": "stdout",
     "output_type": "stream",
     "text": [
      "Polynomial coeffs: [-0.25  0.75  0.5   0.  ]\n",
      "Differentiated coeffs: [-0.75  1.5   0.5 ]\n",
      "f'(0): 0.5\n"
     ]
    }
   ],
   "source": [
    "# Given data\n",
    "x = np.array([0, 1, -1, 2])\n",
    "y = np.array([0, 1, 1/2, 2])\n",
    "\n",
    "# Polynomial coeffs\n",
    "c = np.linalg.solve(np.vander(x), y)\n",
    "print(f'Polynomial coeffs: {c}')\n",
    "\n",
    "# Differentiate polynomial\n",
    "dc = np.polyder(c)\n",
    "print(f'Differentiated coeffs: {dc}')\n",
    "\n",
    "# Evaluate f'(0)\n",
    "ans = np.polyval(dc, 0)\n",
    "print(f\"f'(0): {ans}\")"
   ]
  },
  {
   "cell_type": "markdown",
   "id": "registered-income",
   "metadata": {},
   "source": [
    "### Q1(d)"
   ]
  },
  {
   "cell_type": "markdown",
   "id": "statewide-milan",
   "metadata": {},
   "source": [
    "With 3 points, we use quadratic interpolation. Solving for $a$, $b$, and $c$ in the interpolating function $Q(x) = ax^2 + bx + c$ using $Q(0) = 1/2$, $Q(1) = 1$, and $Q(-1) = -1$ gives us\n",
    "$$Q(x) = -\\frac{1}{2}x^2 + x + \\frac{1}{2}$$\n",
    "on $[-1,1]$. Using the quadratic equation for $Q(x) = 0$ gets us the roots\n",
    "$$x = \\frac{-1 \\pm \\sqrt{1 + 1}}{-1} = 1 \\pm \\sqrt{2}$$\n",
    "Although $1 - \\sqrt{2} \\in [-1,1]$, we have $1 + \\sqrt{2} \\notin [-1,1]$. Since our interpolation is only valid on $[-1,1]$, we approximate a root as\n",
    "$$\\boxed{x \\approx 1 - \\sqrt{2} \\approx -0.414}$$"
   ]
  },
  {
   "cell_type": "code",
   "execution_count": 11,
   "id": "mighty-party",
   "metadata": {},
   "outputs": [
    {
     "name": "stdout",
     "output_type": "stream",
     "text": [
      "Polynomial coeffs: [-0.5  1.   0.5]\n",
      "Roots: [ 2.41421356 -0.41421356]\n"
     ]
    }
   ],
   "source": [
    "# Given data\n",
    "x = np.array([0, 1, -1])\n",
    "y = np.array([1/2, 1, -1])\n",
    "\n",
    "# Polynomial coeffs\n",
    "c = np.linalg.solve(np.vander(x), y)\n",
    "print(f'Polynomial coeffs: {c}')\n",
    "\n",
    "# Roots of quadratic\n",
    "ans = np.roots(c)\n",
    "print(f'Roots: {ans}')"
   ]
  },
  {
   "cell_type": "markdown",
   "id": "rational-finding",
   "metadata": {},
   "source": [
    "## Q2"
   ]
  },
  {
   "cell_type": "markdown",
   "id": "diagnostic-pacific",
   "metadata": {},
   "source": [
    "First we numerically check the relative truncation error to get an *ansatz* of the number of terms we should have:"
   ]
  },
  {
   "cell_type": "code",
   "execution_count": 26,
   "id": "amazing-vietnam",
   "metadata": {},
   "outputs": [
    {
     "name": "stdout",
     "output_type": "stream",
     "text": [
      "Max rel error for deg = 1: 0.07840485667761549\n",
      "Max rel error for deg = 2: 0.07822539239066759\n",
      "Max rel error for deg = 3: 0.011461804276752608\n",
      "Max rel error for deg = 4: 0.011434873241395872\n",
      "Max rel error for deg = 5: 0.0020473765267338697\n"
     ]
    },
    {
     "data": {
      "image/png": "[encoded data removed]",
      "text/plain": [
       "<Figure size 432x288 with 1 Axes>"
      ]
     },
     "metadata": {
      "needs_background": "light"
     },
     "output_type": "display_data"
    }
   ],
   "source": [
    "fig, ax = plt.subplots(figsize=(6,4))\n",
    "\n",
    "x = np.linspace(0.01, 1/2, 1000)\n",
    "y = np.arctan(x)\n",
    "\n",
    "for deg in range(1, 6):\n",
    "    err = (taylor(np.arctan, 0, deg, 0.001)(x) - y)/y\n",
    "    ax.plot(x, err, label=f'deg = {deg}')\n",
    "    print(f'Max rel error for deg = {deg}: {np.max(np.abs(err))}')\n",
    "\n",
    "ax.set_xlabel('x')\n",
    "ax.set_ylabel('Relative Error')\n",
    "ax.legend()\n",
    "plt.show()"
   ]
  },
  {
   "cell_type": "markdown",
   "id": "quiet-sunday",
   "metadata": {},
   "source": [
    "So we should expect to go up to fifth order to have a relative error less than 1%; we will now prove this to be the case. Recall that the Taylor series for $\\arctan(x)$ about $x = 0$ exists and converges on $[-1,1] \\supset [0,1/2]$ as\n",
    "$$\\arctan(x) = \\sum_{n=0}^\\infty (-1)^n \\frac{x^{2n+1}}{2n+1}$$\n",
    "The presence of only odd powers is indeed supported by the above numerical results (based on how the error only changes every two degrees). We differentiate\n",
    "$$\\arctan'(x) = \\frac{1}{1 + x^2}$$\n",
    "So on $[0,1/2]$, we have $4/5 \\leq \\arctan'(x) \\leq 1$. By MVT we have (note that $\\arctan(x) \\geq 0$ in this interval)\n",
    "$$\\frac{4}{5}x \\leq \\big|\\arctan(x)\\big| \\leq x$$\n",
    "Now let $E_N(x)$ be the error of the Taylor polynomial of degree $N$ evaluated at $x$ i.e.\n",
    "$$E_N(x) = \\sum_{n = \\lceil N/2 \\rceil}^\\infty (-1)^n \\frac{x^{2n+1}}{2n+1}$$\n",
    "Now notice that successive terms decrease in magnitude on $x \\in [0,1/2]$:\n",
    "$$0 < \\frac{2n+1}{2n+3} x^2 < 1 \\; \\therefore \\; \\frac{x^{2n+3}}{2n+3} = \\frac{2n+1}{2n+3} x^2 \\frac{x^{2n+1}}{2n+1} < \\frac{x^{2n+1}}{2n+1}$$\n",
    "Since the series alternates and is decreasing in magnitude versus $n$ for $x \\geq 0$, we can bound\n",
    "$$\\frac{x^{2\\lceil N/2 \\rceil + 1}}{2\\lceil N/2 \\rceil + 1} - \\frac{x^{2\\lceil N/2 \\rceil + 3}}{2\\lceil N/2 \\rceil + 3} \\leq \\big|E_N(x)\\big| \\leq \\frac{x^{2\\lceil N/2 \\rceil + 1}}{2\\lceil N/2 \\rceil + 1}$$\n",
    "Then the relative error $r_N(x) = \\frac{\\big|E_N(x)\\big|}{\\big|\\arctan(x)\\big|}$ is bounded as\n",
    "$$\\frac{x^{2\\lceil N/2 \\rceil}}{2\\lceil N/2 \\rceil + 1} - \\frac{x^{2\\lceil N/2 \\rceil + 2}}{2\\lceil N/2 \\rceil + 3} \\leq r_N(x) \\leq \\frac{5}{4}\\frac{x^{2\\lceil N/2 \\rceil}}{2\\lceil N/2 \\rceil + 1}$$"
   ]
  },
  {
   "cell_type": "markdown",
   "id": "large-auditor",
   "metadata": {},
   "source": [
    "For $N = 4$, at $x = 1/2$ we have\n",
    "$$r_4(1/2) \\geq \\frac{(1/2)^4}{5} - \\frac{(1/2)^6}{7} = \\frac{23}{2240} > \\frac{23}{2300} = 1\\%$$\n",
    "So the relative error is *not* bounded by 1% on $[0,1/2$] for $N = 4$. Now we check $N = 5$:\n",
    "$$r_5(x) \\leq \\frac{5}{4} \\frac{x^6}{7} \\leq \\frac{5}{4} \\frac{(1/2)^6}{7} = \\frac{5}{1792} < \\frac{5}{500} = 1\\%$$\n",
    "The first inequality follows from how $x \\leq 1/2$. Thus the $N = 5$ polynomial does have a relative error less than 1% on $[0,1/2]$."
   ]
  },
  {
   "cell_type": "markdown",
   "id": "romance-grenada",
   "metadata": {},
   "source": [
    "So we must use the Taylor polynomial\n",
    "$$\\boxed{T_5(x) = x - \\frac{x^3}{3} + \\frac{x^5}{5}}$$\n",
    "to obtain a relative error less than 1%. Though we may quibble over whether this counts as three terms or six (i.e. whether we should count the even powers of $x$, which have coefficients of zero), the Taylor polynomial required is unambiguous."
   ]
  },
  {
   "cell_type": "markdown",
   "id": "macro-going",
   "metadata": {},
   "source": [
    "## Q3"
   ]
  },
  {
   "cell_type": "markdown",
   "id": "built-nirvana",
   "metadata": {},
   "source": [
    "TODO"
   ]
  },
  {
   "cell_type": "markdown",
   "id": "7fe8fe2f",
   "metadata": {},
   "source": [
    "## Q6"
   ]
  },
  {
   "cell_type": "code",
   "execution_count": 3,
   "id": "137f1c5b",
   "metadata": {},
   "outputs": [],
   "source": [
    "def B(x):\n",
    "    return np.pi/2 * x/(1+x)"
   ]
  },
  {
   "cell_type": "code",
   "execution_count": 5,
   "id": "charitable-fraction",
   "metadata": {
    "scrolled": true
   },
   "outputs": [
    {
     "name": "stdout",
     "output_type": "stream",
     "text": [
      "Max error: 0.07111460594693897\n"
     ]
    },
    {
     "data": {
      "image/png": "[encoded data removed]",
      "text/plain": [
       "<Figure size 432x288 with 1 Axes>"
      ]
     },
     "metadata": {
      "needs_background": "light"
     },
     "output_type": "display_data"
    }
   ],
   "source": [
    "fig, ax = plt.subplots(figsize=(6,4))\n",
    "\n",
    "x = np.linspace(0, 10, 1000)\n",
    "e1 = np.arctan(x) - B(x)\n",
    "\n",
    "ax.plot(x, e1, label='$B(x)$')\n",
    "print(f'Max error: {np.max(np.abs(e1))}')\n",
    "\n",
    "ax.set_xlabel('x')\n",
    "ax.set_ylabel('Error')\n",
    "ax.legend()\n",
    "plt.show()"
   ]
  },
  {
   "cell_type": "code",
   "execution_count": 28,
   "id": "012596a3",
   "metadata": {},
   "outputs": [],
   "source": [
    "def P(x):\n",
    "    \n",
    "    c0 = 0\n",
    "    c1 = 1\n",
    "    c2 = np.pi\n",
    "    a1 = np.pi\n",
    "    a2 = 2\n",
    "    \n",
    "    return (c0 + c1 * x + c2 * x * x) / (1 + a1 * x + a2 * x * x)"
   ]
  },
  {
   "cell_type": "code",
   "execution_count": 29,
   "id": "0d440eb9",
   "metadata": {},
   "outputs": [
    {
     "name": "stdout",
     "output_type": "stream",
     "text": [
      "B(x) max error: 0.07111463743899749\n",
      "P(x) max error: 0.15475428321099172\n"
     ]
    },
    {
     "data": {
      "image/png": "[encoded data removed]",
      "text/plain": [
       "<Figure size 432x288 with 1 Axes>"
      ]
     },
     "metadata": {
      "needs_background": "light"
     },
     "output_type": "display_data"
    }
   ],
   "source": [
    "fig, ax = plt.subplots(figsize=(6,4))\n",
    "\n",
    "x = np.linspace(0, 50, 5000)\n",
    "e1 = np.arctan(x) - B(x)\n",
    "e2 = np.arctan(x) - P(x)\n",
    "\n",
    "ax.plot(x, e1, label='$B(x)$')\n",
    "print(f'B(x) max error: {np.max(np.abs(e1))}')\n",
    "ax.plot(x, e2, label='$P(x)$')\n",
    "print(f'P(x) max error: {np.max(np.abs(e2))}')\n",
    "\n",
    "ax.set_xlabel('x')\n",
    "ax.set_ylabel('Error')\n",
    "ax.legend()\n",
    "plt.show()"
   ]
  },
  {
   "cell_type": "code",
   "execution_count": null,
   "id": "58c8edec",
   "metadata": {},
   "outputs": [],
   "source": []
  }
 ],
 "metadata": {
  "kernelspec": {
   "display_name": "Python 3 (ipykernel)",
   "language": "python",
   "name": "python3"
  },
  "language_info": {
   "codemirror_mode": {
    "name": "ipython",
    "version": 3
   },
   "file_extension": ".py",
   "mimetype": "text/x-python",
   "name": "python",
   "nbconvert_exporter": "python",
   "pygments_lexer": "ipython3",
   "version": "3.9.6"
  }
 },
 "nbformat": 4,
 "nbformat_minor": 5
}
