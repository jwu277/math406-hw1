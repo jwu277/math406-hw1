{
 "cells": [
  {
   "cell_type": "markdown",
   "id": "19b555bc",
   "metadata": {},
   "source": [
    "# MATH 406 Assignment 1"
   ]
  },
  {
   "cell_type": "markdown",
   "id": "b074a0b4",
   "metadata": {},
   "source": [
    "**Name:** James Wu\\\n",
    "**Student number:** 92277235"
   ]
  },
  {
   "cell_type": "code",
   "execution_count": 1,
   "id": "d84609f8",
   "metadata": {},
   "outputs": [],
   "source": [
    "### IMPORTS ###\n",
    "import numpy as np"
   ]
  },
  {
   "cell_type": "markdown",
   "id": "f7aef58e",
   "metadata": {},
   "source": [
    "## Q1"
   ]
  },
  {
   "cell_type": "markdown",
   "id": "b69f94f8",
   "metadata": {},
   "source": [
    "### Q1(a)"
   ]
  },
  {
   "cell_type": "markdown",
   "id": "9eef332f",
   "metadata": {},
   "source": [
    "With 2 points, we use linear interpolation. Solving for $a$ and $b$ in the interpolating function $L(x) = ax + b$ using $L(0) = 0$ and $L(1) = 1$ gives us\n",
    "$$L(x) = x$$\n",
    "on $[0,1]$. Then $f(1/2) \\approx L(1/2)$, so\n",
    "$$\\boxed{f(1/2) \\approx 1/2}$$"
   ]
  },
  {
   "cell_type": "code",
   "execution_count": 5,
   "id": "094233e0",
   "metadata": {},
   "outputs": [
    {
     "name": "stdout",
     "output_type": "stream",
     "text": [
      "Polynomial coeffs: [1. 0.]\n",
      "f(1/2): 0.5\n"
     ]
    }
   ],
   "source": [
    "# Given data\n",
    "x = np.array([0, 1])\n",
    "y = np.array([0, 1])\n",
    "\n",
    "# Polynomial coeffs\n",
    "c = np.linalg.solve(np.vander(x), y)\n",
    "print(f'Polynomial coeffs: {c}')\n",
    "\n",
    "# Evaluate f(1/2)\n",
    "ans = np.polyval(c, 1/2)\n",
    "print(f'f(1/2): {ans}')"
   ]
  },
  {
   "cell_type": "markdown",
   "id": "a69ce18a",
   "metadata": {},
   "source": [
    "### Q1(b)"
   ]
  },
  {
   "cell_type": "markdown",
   "id": "24a635e0",
   "metadata": {},
   "source": [
    "With 3 points, we use quadratic interpolation. Solving for $a$, $b$, and $c$ in the interpolating function $Q(x) = ax^2 + bx + c$ using $Q(0) = 0$, $Q(1) = 1$, and $Q(-1) = 1/2$ gives us\n",
    "$$Q(x) = \\frac{3}{4}x^2 + \\frac{1}{4}x$$\n",
    "on $[-1,1]$. Then $f(1/2) \\approx Q(1/2)$, so\n",
    "$$\\boxed{f(1/2) \\approx 5/16}$$"
   ]
  },
  {
   "cell_type": "code",
   "execution_count": 7,
   "id": "e7716a68",
   "metadata": {},
   "outputs": [
    {
     "name": "stdout",
     "output_type": "stream",
     "text": [
      "Polynomial coeffs: [0.75 0.25 0.  ]\n",
      "f(1/2): 0.3125\n"
     ]
    }
   ],
   "source": [
    "# Given data\n",
    "x = np.array([0, 1, -1])\n",
    "y = np.array([0, 1, 1/2])\n",
    "\n",
    "# Polynomial coeffs\n",
    "c = np.linalg.solve(np.vander(x), y)\n",
    "print(f'Polynomial coeffs: {c}')\n",
    "\n",
    "# Evaluate f(1/2)\n",
    "ans = np.polyval(c, 1/2)\n",
    "print(f'f(1/2): {ans}')"
   ]
  },
  {
   "cell_type": "markdown",
   "id": "7d76c99f",
   "metadata": {},
   "source": [
    "### Q1(c)"
   ]
  },
  {
   "cell_type": "markdown",
   "id": "04979022",
   "metadata": {},
   "source": [
    "With 4 points, we use cubic interpolation. Solving for $a$, $b$, $c$, and $d$ in the interpolating function $C(x) = ax^3 + bx^2 + cx + d$ using $C(0) = 0$, $C(1) = 1$, $C(-1) = 1/2$, and $C(2) = 2$ gives us\n",
    "$$C(x) = -\\frac{1}{4}x^3 + \\frac{3}{4}x^2 + \\frac{1}{2}x$$\n",
    "$$C'(x) = -\\frac{3}{4}x^2 + \\frac{3}{2}x + \\frac{1}{2}$$\n",
    "on $[-1,2]$. Then $f'(0) \\approx C'(0)$, so\n",
    "$$\\boxed{f'(0) \\approx 1/2}$$"
   ]
  },
  {
   "cell_type": "code",
   "execution_count": 9,
   "id": "8086f70c",
   "metadata": {
    "scrolled": true
   },
   "outputs": [
    {
     "name": "stdout",
     "output_type": "stream",
     "text": [
      "Polynomial coeffs: [-0.25  0.75  0.5   0.  ]\n",
      "Differentiated coeffs: [-0.75  1.5   0.5 ]\n",
      "f'(0): 0.5\n"
     ]
    }
   ],
   "source": [
    "# Given data\n",
    "x = np.array([0, 1, -1, 2])\n",
    "y = np.array([0, 1, 1/2, 2])\n",
    "\n",
    "# Polynomial coeffs\n",
    "c = np.linalg.solve(np.vander(x), y)\n",
    "print(f'Polynomial coeffs: {c}')\n",
    "\n",
    "# Differentiate polynomial\n",
    "dc = np.polyder(c)\n",
    "print(f'Differentiated coeffs: {dc}')\n",
    "\n",
    "# Evaluate f'(0)\n",
    "ans = np.polyval(dc, 0)\n",
    "print(f\"f'(0): {ans}\")"
   ]
  },
  {
   "cell_type": "markdown",
   "id": "c1ff91ad",
   "metadata": {},
   "source": [
    "### Q1(d)"
   ]
  },
  {
   "cell_type": "markdown",
   "id": "09ef98f9",
   "metadata": {},
   "source": [
    "With 3 points, we use quadratic interpolation. Solving for $a$, $b$, and $c$ in the interpolating function $Q(x) = ax^2 + bx + c$ using $Q(0) = 1/2$, $Q(1) = 1$, and $Q(-1) = -1$ gives us\n",
    "$$Q(x) = -\\frac{1}{2}x^2 + x + \\frac{1}{2}$$\n",
    "on $[-1,1]$. Using the quadratic equation for $Q(x) = 0$ gets us the roots\n",
    "$$x = \\frac{-1 \\pm \\sqrt{1 + 1}}{-1} = 1 \\pm \\sqrt{2}$$\n",
    "Although $1 - \\sqrt{2} \\in [-1,1]$, we have $1 + \\sqrt{2} \\notin [-1,1]$. Since our interpolation is only valid on $[-1,1]$, we approximate a root as\n",
    "$$\\boxed{x \\approx 1 - \\sqrt{2} \\approx -0.414}$$"
   ]
  },
  {
   "cell_type": "code",
   "execution_count": 11,
   "id": "96a74b1f",
   "metadata": {},
   "outputs": [
    {
     "name": "stdout",
     "output_type": "stream",
     "text": [
      "Polynomial coeffs: [-0.5  1.   0.5]\n",
      "Roots: [ 2.41421356 -0.41421356]\n"
     ]
    }
   ],
   "source": [
    "# Given data\n",
    "x = np.array([0, 1, -1])\n",
    "y = np.array([1/2, 1, -1])\n",
    "\n",
    "# Polynomial coeffs\n",
    "c = np.linalg.solve(np.vander(x), y)\n",
    "print(f'Polynomial coeffs: {c}')\n",
    "\n",
    "# Roots of quadratic\n",
    "ans = np.roots(c)\n",
    "print(f'Roots: {ans}')"
   ]
  }
 ],
 "metadata": {
  "kernelspec": {
   "display_name": "Python 3 (ipykernel)",
   "language": "python",
   "name": "python3"
  },
  "language_info": {
   "codemirror_mode": {
    "name": "ipython",
    "version": 3
   },
   "file_extension": ".py",
   "mimetype": "text/x-python",
   "name": "python",
   "nbconvert_exporter": "python",
   "pygments_lexer": "ipython3",
   "version": "3.9.6"
  }
 },
 "nbformat": 4,
 "nbformat_minor": 5
}
