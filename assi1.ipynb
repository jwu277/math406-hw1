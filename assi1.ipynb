{
 "cells": [
  {
   "cell_type": "markdown",
   "id": "copyrighted-anaheim",
   "metadata": {},
   "source": [
    "# MATH 406 Assignment 1"
   ]
  },
  {
   "cell_type": "markdown",
   "id": "fabulous-rings",
   "metadata": {},
   "source": [
    "**Name:** James Wu\\\n",
    "**Student number:** 92277235"
   ]
  },
  {
   "cell_type": "code",
   "execution_count": 2,
   "id": "unexpected-voice",
   "metadata": {},
   "outputs": [],
   "source": [
    "### IMPORTS ###\n",
    "import numpy as np\n",
    "import matplotlib.pyplot as plt\n",
    "from scipy.interpolate import approximate_taylor_polynomial as taylor"
   ]
  },
  {
   "cell_type": "markdown",
   "id": "micro-bruce",
   "metadata": {},
   "source": [
    "## Q1"
   ]
  },
  {
   "cell_type": "markdown",
   "id": "acknowledged-vietnamese",
   "metadata": {},
   "source": [
    "### Q1(a)"
   ]
  },
  {
   "cell_type": "markdown",
   "id": "personalized-playing",
   "metadata": {},
   "source": [
    "With 2 points, we use linear interpolation. Solving for $a$ and $b$ in the interpolating function $L(x) = ax + b$ using $L(0) = 0$ and $L(1) = 1$ gives us\n",
    "$$L(x) = x$$\n",
    "on $[0,1]$. Then $f(1/2) \\approx L(1/2)$, so\n",
    "$$\\boxed{f(1/2) \\approx 1/2}$$"
   ]
  },
  {
   "cell_type": "code",
   "execution_count": 2,
   "id": "designed-receiver",
   "metadata": {},
   "outputs": [
    {
     "name": "stdout",
     "output_type": "stream",
     "text": [
      "Polynomial coeffs: [1. 0.]\n",
      "f(1/2): 0.5\n"
     ]
    }
   ],
   "source": [
    "# Given data\n",
    "x = np.array([0, 1])\n",
    "y = np.array([0, 1])\n",
    "\n",
    "# Polynomial coeffs\n",
    "c = np.linalg.solve(np.vander(x), y)\n",
    "print(f'Polynomial coeffs: {c}')\n",
    "\n",
    "# Evaluate f(1/2)\n",
    "ans = np.polyval(c, 1/2)\n",
    "print(f'f(1/2): {ans}')"
   ]
  },
  {
   "cell_type": "markdown",
   "id": "mysterious-beaver",
   "metadata": {},
   "source": [
    "### Q1(b)"
   ]
  },
  {
   "cell_type": "markdown",
   "id": "unnecessary-saudi",
   "metadata": {},
   "source": [
    "With 3 points, we use quadratic interpolation. Solving for $a$, $b$, and $c$ in the interpolating function $Q(x) = ax^2 + bx + c$ using $Q(0) = 0$, $Q(1) = 1$, and $Q(-1) = 1/2$ gives us\n",
    "$$Q(x) = \\frac{3}{4}x^2 + \\frac{1}{4}x$$\n",
    "on $[-1,1]$. Then $f(1/2) \\approx Q(1/2)$, so\n",
    "$$\\boxed{f(1/2) \\approx 5/16}$$"
   ]
  },
  {
   "cell_type": "code",
   "execution_count": 3,
   "id": "functional-adrian",
   "metadata": {},
   "outputs": [
    {
     "name": "stdout",
     "output_type": "stream",
     "text": [
      "Polynomial coeffs: [0.75 0.25 0.  ]\n",
      "f(1/2): 0.3125\n"
     ]
    }
   ],
   "source": [
    "# Given data\n",
    "x = np.array([0, 1, -1])\n",
    "y = np.array([0, 1, 1/2])\n",
    "\n",
    "# Polynomial coeffs\n",
    "c = np.linalg.solve(np.vander(x), y)\n",
    "print(f'Polynomial coeffs: {c}')\n",
    "\n",
    "# Evaluate f(1/2)\n",
    "ans = np.polyval(c, 1/2)\n",
    "print(f'f(1/2): {ans}')"
   ]
  },
  {
   "cell_type": "markdown",
   "id": "express-mandate",
   "metadata": {},
   "source": [
    "### Q1(c)"
   ]
  },
  {
   "cell_type": "markdown",
   "id": "presidential-contract",
   "metadata": {},
   "source": [
    "With 4 points, we use cubic interpolation. Solving for $a$, $b$, $c$, and $d$ in the interpolating function $C(x) = ax^3 + bx^2 + cx + d$ using $C(0) = 0$, $C(1) = 1$, $C(-1) = 1/2$, and $C(2) = 2$ gives us\n",
    "$$C(x) = -\\frac{1}{4}x^3 + \\frac{3}{4}x^2 + \\frac{1}{2}x$$\n",
    "$$C'(x) = -\\frac{3}{4}x^2 + \\frac{3}{2}x + \\frac{1}{2}$$\n",
    "on $[-1,2]$. Then $f'(0) \\approx C'(0)$, so\n",
    "$$\\boxed{f'(0) \\approx 1/2}$$"
   ]
  },
  {
   "cell_type": "code",
   "execution_count": 4,
   "id": "mexican-astrology",
   "metadata": {
    "scrolled": true
   },
   "outputs": [
    {
     "name": "stdout",
     "output_type": "stream",
     "text": [
      "Polynomial coeffs: [-0.25  0.75  0.5   0.  ]\n",
      "Differentiated coeffs: [-0.75  1.5   0.5 ]\n",
      "f'(0): 0.5\n"
     ]
    }
   ],
   "source": [
    "# Given data\n",
    "x = np.array([0, 1, -1, 2])\n",
    "y = np.array([0, 1, 1/2, 2])\n",
    "\n",
    "# Polynomial coeffs\n",
    "c = np.linalg.solve(np.vander(x), y)\n",
    "print(f'Polynomial coeffs: {c}')\n",
    "\n",
    "# Differentiate polynomial\n",
    "dc = np.polyder(c)\n",
    "print(f'Differentiated coeffs: {dc}')\n",
    "\n",
    "# Evaluate f'(0)\n",
    "ans = np.polyval(dc, 0)\n",
    "print(f\"f'(0): {ans}\")"
   ]
  },
  {
   "cell_type": "markdown",
   "id": "complex-contribution",
   "metadata": {},
   "source": [
    "### Q1(d)"
   ]
  },
  {
   "cell_type": "markdown",
   "id": "enabling-indiana",
   "metadata": {},
   "source": [
    "With 3 points, we use quadratic interpolation. Solving for $a$, $b$, and $c$ in the interpolating function $Q(x) = ax^2 + bx + c$ using $Q(0) = 1/2$, $Q(1) = 1$, and $Q(-1) = -1$ gives us\n",
    "$$Q(x) = -\\frac{1}{2}x^2 + x + \\frac{1}{2}$$\n",
    "on $[-1,1]$. Using the quadratic equation for $Q(x) = 0$ gets us the roots\n",
    "$$x = \\frac{-1 \\pm \\sqrt{1 + 1}}{-1} = 1 \\pm \\sqrt{2}$$\n",
    "Although $1 - \\sqrt{2} \\in [-1,1]$, we have $1 + \\sqrt{2} \\notin [-1,1]$. Since our interpolation is only valid on $[-1,1]$, we approximate a root as\n",
    "$$\\boxed{x \\approx 1 - \\sqrt{2} \\approx -0.414}$$"
   ]
  },
  {
   "cell_type": "code",
   "execution_count": 5,
   "id": "hairy-government",
   "metadata": {},
   "outputs": [
    {
     "name": "stdout",
     "output_type": "stream",
     "text": [
      "Polynomial coeffs: [-0.5  1.   0.5]\n",
      "Roots: [ 2.41421356 -0.41421356]\n"
     ]
    }
   ],
   "source": [
    "# Given data\n",
    "x = np.array([0, 1, -1])\n",
    "y = np.array([1/2, 1, -1])\n",
    "\n",
    "# Polynomial coeffs\n",
    "c = np.linalg.solve(np.vander(x), y)\n",
    "print(f'Polynomial coeffs: {c}')\n",
    "\n",
    "# Roots of quadratic\n",
    "ans = np.roots(c)\n",
    "print(f'Roots: {ans}')"
   ]
  },
  {
   "cell_type": "markdown",
   "id": "disabled-hampshire",
   "metadata": {},
   "source": [
    "## Q2"
   ]
  },
  {
   "cell_type": "markdown",
   "id": "emotional-denmark",
   "metadata": {},
   "source": [
    "First we numerically check the relative truncation error to get an *ansatz* of the number of terms we should have:"
   ]
  },
  {
   "cell_type": "code",
   "execution_count": 6,
   "id": "rental-wonder",
   "metadata": {},
   "outputs": [
    {
     "name": "stdout",
     "output_type": "stream",
     "text": [
      "Max rel error for deg = 1: 0.07840485667761549\n",
      "Max rel error for deg = 2: 0.07822539239066759\n",
      "Max rel error for deg = 3: 0.011461804276752608\n",
      "Max rel error for deg = 4: 0.011434873241395872\n",
      "Max rel error for deg = 5: 0.0020473765267338697\n"
     ]
    },
    {
     "data": {
      "image/png": "[encoded data removed]",
      "text/plain": [
       "<Figure size 432x288 with 1 Axes>"
      ]
     },
     "metadata": {
      "needs_background": "light"
     },
     "output_type": "display_data"
    }
   ],
   "source": [
    "fig, ax = plt.subplots(figsize=(6,4))\n",
    "\n",
    "x = np.linspace(0.01, 1/2, 1000)\n",
    "y = np.arctan(x)\n",
    "\n",
    "for deg in range(1, 6):\n",
    "    err = (taylor(np.arctan, 0, deg, 0.001)(x) - y)/y\n",
    "    ax.plot(x, err, label=f'deg = {deg}')\n",
    "    print(f'Max rel error for deg = {deg}: {np.max(np.abs(err))}')\n",
    "\n",
    "ax.set_xlabel('x')\n",
    "ax.set_ylabel('Relative Error')\n",
    "ax.legend()\n",
    "plt.show()"
   ]
  },
  {
   "cell_type": "markdown",
   "id": "laden-lawsuit",
   "metadata": {},
   "source": [
    "So we should expect to go up to fifth order to have a relative error less than 1%; we will now prove this to be the case. Recall that the Taylor series for $\\arctan(x)$ about $x = 0$ exists and converges on $[-1,1] \\supset [0,1/2]$ as\n",
    "$$\\arctan(x) = \\sum_{n=0}^\\infty (-1)^n \\frac{x^{2n+1}}{2n+1}$$\n",
    "The presence of only odd powers is indeed supported by the above numerical results (based on how the error only changes every two degrees). We differentiate\n",
    "$$\\arctan'(x) = \\frac{1}{1 + x^2}$$\n",
    "So on $[0,1/2]$, we have $4/5 \\leq \\arctan'(x) \\leq 1$. By MVT we have (note that $\\arctan(x) \\geq 0$ in this interval)\n",
    "$$\\frac{4}{5}x \\leq \\big|\\arctan(x)\\big| \\leq x$$\n",
    "Now let $E_N(x)$ be the error of the Taylor polynomial of degree $N$ evaluated at $x$ i.e.\n",
    "$$E_N(x) = \\sum_{n = \\lceil N/2 \\rceil}^\\infty (-1)^n \\frac{x^{2n+1}}{2n+1}$$\n",
    "Now notice that successive terms decrease in magnitude on $x \\in [0,1/2]$:\n",
    "$$0 < \\frac{2n+1}{2n+3} x^2 < 1 \\; \\therefore \\; \\frac{x^{2n+3}}{2n+3} = \\frac{2n+1}{2n+3} x^2 \\frac{x^{2n+1}}{2n+1} < \\frac{x^{2n+1}}{2n+1}$$\n",
    "Since the series alternates and is decreasing in magnitude versus $n$ for $x \\geq 0$, we can bound\n",
    "$$\\frac{x^{2\\lceil N/2 \\rceil + 1}}{2\\lceil N/2 \\rceil + 1} - \\frac{x^{2\\lceil N/2 \\rceil + 3}}{2\\lceil N/2 \\rceil + 3} \\leq \\big|E_N(x)\\big| \\leq \\frac{x^{2\\lceil N/2 \\rceil + 1}}{2\\lceil N/2 \\rceil + 1}$$\n",
    "Then the relative error $r_N(x) = \\frac{\\big|E_N(x)\\big|}{\\big|\\arctan(x)\\big|}$ is bounded as\n",
    "$$\\frac{x^{2\\lceil N/2 \\rceil}}{2\\lceil N/2 \\rceil + 1} - \\frac{x^{2\\lceil N/2 \\rceil + 2}}{2\\lceil N/2 \\rceil + 3} \\leq r_N(x) \\leq \\frac{5}{4}\\frac{x^{2\\lceil N/2 \\rceil}}{2\\lceil N/2 \\rceil + 1}$$"
   ]
  },
  {
   "cell_type": "markdown",
   "id": "amber-stone",
   "metadata": {},
   "source": [
    "For $N = 4$, at $x = 1/2$ we have\n",
    "$$r_4(1/2) \\geq \\frac{(1/2)^4}{5} - \\frac{(1/2)^6}{7} = \\frac{23}{2240} > \\frac{23}{2300} = 1\\%$$\n",
    "So the relative error is *not* bounded by 1% on $[0,1/2$] for $N = 4$. Now we check $N = 5$:\n",
    "$$r_5(x) \\leq \\frac{5}{4} \\frac{x^6}{7} \\leq \\frac{5}{4} \\frac{(1/2)^6}{7} = \\frac{5}{1792} < \\frac{5}{500} = 1\\%$$\n",
    "The first inequality follows from how $x \\leq 1/2$. Thus the $N = 5$ polynomial does have a relative error less than 1% on $[0,1/2]$."
   ]
  },
  {
   "cell_type": "markdown",
   "id": "bearing-parliament",
   "metadata": {},
   "source": [
    "So we must use the Taylor polynomial\n",
    "$$\\boxed{T_5(x) = x - \\frac{x^3}{3} + \\frac{x^5}{5}}$$\n",
    "to obtain a relative error less than 1%. Though we may quibble over whether this counts as three terms or six (i.e. whether we should count the even powers of $x$, which have coefficients of zero), the Taylor polynomial required is unambiguous."
   ]
  },
  {
   "cell_type": "markdown",
   "id": "detailed-outdoors",
   "metadata": {},
   "source": [
    "## Q3"
   ]
  },
  {
   "cell_type": "markdown",
   "id": "peaceful-individual",
   "metadata": {},
   "source": [
    "Using shape functions, we have\n",
    "$$F(x) = \\sum_{i=1}^4 f(x_i) \\frac{\\prod_{j \\neq i} (x - x_j)}{\\prod_{j \\neq i} (x_i - x_j)}$$\n",
    "We assume $f(x)$ is analytic on the reference interval $[0,1]$ (which is true if $f$ is analytic in any neighbourhood of $x$ in the original interval since $h$ can be made to be arbitrarily small). Taylor expanding $f(x_i)$ about $x$ gets us\n",
    "$$F(x) = T_0(x) + T_1(x) + T_2(x) + T_3(x) + T_4(x) + O(h^5)$$\n",
    "where\n",
    "$$T_0(x) = \\sum_{i=1}^4 f(x) \\frac{\\prod_{j \\neq i} (x - x_j)}{\\prod_{j \\neq i} (x_i - x_j)} = f(x) P_0(x)$$\n",
    "$$P_0(x) = \\sum_{i=1}^4 \\frac{\\prod_{j \\neq i} (x - x_j)}{\\prod_{j \\neq i} (x_i - x_j)}$$\n",
    "$$T_1(x) = \\sum_{i=1}^4 f'(x) \\frac{\\prod_{j = 1}^4 (x - x_j)}{\\prod_{j \\neq i} (x_i - x_j)} = f'(x) P_1(x)$$\n",
    "$$P_1(x) = \\sum_{i=1}^4 \\frac{\\prod_{j = 1}^4 (x - x_j)}{\\prod_{j \\neq i} (x_i - x_j)} = \\prod_{j = 1}^4 (x - x_j) \\sum_{i=1}^4 \\frac{1}{\\prod_{j \\neq i} (x_i - x_j)}$$\n",
    "$$T_2(x) = \\sum_{i=1}^4 \\frac{f''(x)}{2} \\frac{(x - x_i)\\prod_{j = 1}^4 (x - x_j)}{\\prod_{j \\neq i} (x_i - x_j)} = \\frac{f''(x)}{2} P_2(x)$$\n",
    "$$P_2(x) = \\prod_{j = 1}^4 (x - x_j) \\sum_{i=1}^4 \\frac{(x - x_i)}{\\prod_{j \\neq i} (x_i - x_j)}$$\n",
    "$$T_3(x) = \\sum_{i=1}^4 \\frac{f^{(3)}(x)}{6} \\frac{(x - x_i)^2\\prod_{j = 1}^4 (x - x_j)}{\\prod_{j \\neq i} (x_i - x_j)} = \\frac{f^{(3)}(x)}{6} P_3(x)$$\n",
    "$$P_3(x) = \\prod_{j = 1}^4 (x - x_j) \\sum_{i=1}^4 \\frac{(x - x_i)^2}{\\prod_{j \\neq i} (x_i - x_j)}$$\n",
    "$$T_4(x) = \\sum_{i=1}^4 \\frac{f^{(4)}(x)}{24} \\frac{(x - x_i)^3\\prod_{j = 1}^4 (x - x_j)}{\\prod_{j \\neq i} (x_i - x_j)} = \\frac{f^{(4)}(x)}{24} P_4(x)$$\n",
    "$$P_4(x) = \\prod_{j = 1}^4 (x - x_j) \\sum_{i=1}^4 \\frac{(x - x_i)^3}{\\prod_{j \\neq i} (x_i - x_j)}$$"
   ]
  },
  {
   "cell_type": "markdown",
   "id": "loving-confidentiality",
   "metadata": {},
   "source": [
    "Notice that for $i = 1, 2, 3, 4$ we have\n",
    "$$P_0(x_i) = \\frac{\\prod_{j \\neq i} (x - x_j)}{\\prod_{j \\neq i} (x_i - x_j)} = 1$$\n",
    "Since $P_0(x)$ is a polynomial of degree at most 3 (each term is a product of three $(x - x_j)$), its derivative is a polynomial of degree at most two. But since $P_0(x)$ has four roots, its derivative has three roots by Rolle's theorem. Its derivative must therefore be the zero function (since nonzero polynomials of degree at most two can have at most two roots). Therefore $P_0(x) = 1$ is a constant function."
   ]
  },
  {
   "cell_type": "markdown",
   "id": "partial-sweet",
   "metadata": {},
   "source": [
    "Meanwhile, we shall show for $n \\geq 2$ that\n",
    "$$q_1(x) = \\sum_{i=1}^n \\frac{1}{\\prod_{j \\neq i} (x_i - x_j)} = 0$$\n",
    "with $n = 4$ as a special case. This can be seen by performing partial fraction decomposition on the $i=1$ term with $x_1$ as the independent variable (recall that the numerator in the term with $(x_i - x_j)$ as the denominator can be obtained by multiplying the original rational function by $(x_i - x_j)$ and subtituting $x_i = x_j$):\n",
    "$$\\frac{1}{\\prod_{j=2}^n (x_1 - x_j)} = \\sum_{i=2}^n \\frac{1}{(x_1 - x_i) \\prod_{j=2, j \\neq i}^n (x_i - x_j)} = - \\sum_{i=2}^n \\frac{1}{\\prod_{j \\neq i} (x_i - x_j)}$$\n",
    "This cancels out with all the other terms in the expression. This implies that $P_1(x)$ is zero.\n",
    "We can similarly do PFD for\n",
    "$$q_2(x) = \\sum_{i=1}^n \\frac{(x - x_i)}{\\prod_{j \\neq i} (x_i - x_j)} = 0$$\n",
    "and\n",
    "$$q_3(x) = \\sum_{i=1}^n \\frac{(x - x_i)^2}{\\prod_{j \\neq i} (x_i - x_j)} = 0$$\n",
    "on the first term and cancel out all the other terms, allowing us to conclude $P_2(x)$ and $P_3(x)$ to be zero."
   ]
  },
  {
   "cell_type": "markdown",
   "id": "manual-terminal",
   "metadata": {},
   "source": [
    "Now for $P_4(x)$ and $n = 4$, we cannot immediately use PFD because the degree of the numerator is the same as the degree of the denominator as a rational function of $x_i$. Instead, we rexpress the first term of $q_4(x)$ as\n",
    "$$\\frac{(x - x_1)^3}{\\prod_{j \\neq 1} (x_1 - x_j)} = -1 + \\frac{(x - x_1)^3 + \\prod_{j \\neq 1} (x_1 - x_j)}{\\prod_{j \\neq i} (x_1 - x_j)}$$\n",
    "The numerator $(x - x_1)^3 + \\prod_{j \\neq 1} (x_1 - x_j)$ is now at most degree 2 in $x_1$, with the $x_1^3$ term having a coefficient of zero in this expression. Performing PFD gets us\n",
    "$$\\frac{(x - x_1)^3}{\\prod_{j \\neq 1} (x_1 - x_j)} = -1 - \\sum_{i=2}^4 \\frac{(x - x_i)^3}{\\prod_{j \\neq i} (x_i - x_j)}$$\n",
    "The latter term cancels out with the other terms of $q_4(x)$ so we have $q_4(x) = -1$."
   ]
  },
  {
   "cell_type": "markdown",
   "id": "breeding-draft",
   "metadata": {},
   "source": [
    "We now arrive at\n",
    "$$F(x) = f(x) - \\frac{f^{(4)}(x)}{24} \\prod_{i = 1}^4 (x - x_i) + O(h^5)$$\n",
    "The error is then\n",
    "$$e(x) = f(x) - F(x) = \\frac{f^{(4)}(x)}{24} \\prod_{i = 1}^4 (x - x_i) + O(h^5)$$\n",
    "To leading order (i.e. $h^4$) the error is bounded by\n",
    "$$\\big| e(x) \\big| = \\big| f(x) - F(x) \\big| \\leq \\frac{1}{24} \\max \\bigg| f^{(4)}(x) \\prod_{i = 1}^4 (x - x_i) \\bigg| = \\frac{1}{24} \\max \\bigg| \\prod_{i = 1}^4 (x - x_i) \\bigg| K_4 h^4$$"
   ]
  },
  {
   "cell_type": "markdown",
   "id": "elementary-invitation",
   "metadata": {},
   "source": [
    "We now seek to minimize $\\max \\bigg| \\prod_{i = 1}^4 (x - x_i) \\bigg|$ by varying $x_i$; for convenience we define $p(x) = \\prod_{i = 1}^4 (x - x_i)$. We utilize the hint by assuming symmetry and we seek to balance the extrema of $p(x)$. Note that $p(x)$ has 3 extrema as it is a fourth degree polynomial: $x = y_0, y_1, y_2$. By Rolle's theorem, these are located as $x_1 < y_0 < x_2$, $x_2 < y_1 < x_3$, and $x_3 < y_2 < x_4$. By symmetry about $x = 1/2$, $p(0) = p(1)$, $p(y_0) = p(y_2)$, and $y_1 = 1/2$. Also, $x_4 = 1 - x_1$ and $x_3 = 1 - x_2$. We therefore need only equate $p(0) = p(y_0) = p(1/2)$."
   ]
  },
  {
   "cell_type": "markdown",
   "id": "electrical-yorkshire",
   "metadata": {},
   "source": [
    "We compute\n",
    "$$p(x) = (x - x_1)(x - x_2)(x - (1 - x_1))(x - (1 - x_2))$$\n",
    "$$p(0) = x_1x_2(1-x_1)(1-x_2)$$\n",
    "$$p(1/2) = (1/2 - x_1)^2 (1/2 - x_2)^2$$"
   ]
  },
  {
   "cell_type": "markdown",
   "id": "prompt-draft",
   "metadata": {},
   "source": [
    "Using WolframAlpha, we find\n",
    "$$y_0 = \\frac{1}{2} - \\frac{1}{2}\\sqrt{1 - 2x_1 + 2x_1^2 - 2x_2 + 2x_2^2}$$\n",
    "$$p(y_0) = -\\frac{1}{4}(x_2 - x_1)^2(x_1 + x_2 - 1)^2$$"
   ]
  },
  {
   "cell_type": "markdown",
   "id": "comprehensive-eleven",
   "metadata": {},
   "source": [
    "First equating $\\big|p(y_0)\\big| = \\big|p(1/2)\\big|$ gets us\n",
    "$$(1/2 - x_1)^2 (1/2 - x_2)^2 = \\frac{1}{4}(x_2 - x_1)^2(1 - x_1 - x_2)^2$$\n",
    "$$(1 - 2x_1)(1 - 2x_2) = 2(x_2 - x_1)(1 - x_1 - x_2)$$\n",
    "$$x_2^2 - 2(1 - x_1)x_2 + 1/2 - x_1^2 = 0$$\n",
    "$$x_2 = (1 - x_1) \\pm \\sqrt{(1 - x_1)^2 - (1/2 - x_1^2)} = (1 - x_1) \\pm \\sqrt{2}(1/2 - x_1)$$"
   ]
  },
  {
   "cell_type": "markdown",
   "id": "celtic-afternoon",
   "metadata": {},
   "source": [
    "Now equating $\\big|p(1/2)\\big| = \\big|p(0)\\big|$ gets us\n",
    "$$(1/2 - x_1)^4 (1 \\pm \\sqrt{2})^2 = x_1(1-x_1)\\left[x_1(1-x_1) \\mp \\sqrt{2}(1 - 2x_1)(1/2 - x_1) - 2(1/2 - x_1)^2\\right]$$\n",
    "Let us define\n",
    "$$y = (1/2 - x_1)^2 (1 \\pm \\sqrt{2}), \\quad z = x_1(1 - x_1) \\geq 0$$\n",
    "Note that the sign of $y$ is the sign of $\\pm$ since $\\sqrt{2} > 1$. Now our equation becomes\n",
    "$$y^2 = z(z - 2y)$$\n",
    "$$y^2 + 2zy + z^2 = 0$$\n",
    "$$y = -z \\pm' \\sqrt{2z^2} = -z(1 \\mp' \\sqrt{2})$$\n",
    "Since $z \\geq 0$, the sign of $y$ is the sign of $\\pm'$ (i.e. oppositely signed to $\\mp'$). It follows that $\\pm = \\pm'$, so $y = -z(1 \\mp \\sqrt{2})$. Thus\n",
    "$$(1/2-x_1)^2 (1 \\pm \\sqrt{2}) = -x_1(1-x_1)(1 \\mp \\sqrt{2})$$\n",
    "$$(1/2-x_1)^2 = -x_1(1-x_1) \\frac{1 \\mp \\sqrt{2}}{1 \\pm \\sqrt{2}}$$\n",
    "$$(1/2-x_1)^2 = x_1(1-x_1)\\frac{\\sqrt{2} \\mp 1}{\\sqrt{2} \\pm 1} = x_1(1-x_1)(3 \\mp 2\\sqrt{2})$$\n",
    "$$(4 \\mp 2\\sqrt{2})x_1^2 - (4 \\mp 2\\sqrt{2})x_1 + 1/4 = 0$$\n",
    "We now re-introduce a second set of signs $\\pm'$:\n",
    "$$x_1 = \\frac{(4 \\mp 2\\sqrt{2}) \\pm' \\sqrt{20 \\mp 14\\sqrt{2}}}{2(4 \\mp 2\\sqrt{2})}$$\n",
    "To constrain $0 \\leq x_1 \\leq 1/2$, we are left with only two permutations of $(\\pm, \\pm')$:\n",
    "$$x_1 = \\frac{(4 - 2\\sqrt{2}) - \\sqrt{20 - 14\\sqrt{2}}}{2(4 - 2\\sqrt{2})}, \\; \\frac{(4 + 2\\sqrt{2}) - \\sqrt{20 + 14\\sqrt{2}}}{2(4 + 2\\sqrt{2})}$$\n",
    "The corresponding values of $x_2$ satisfying $x_1 \\leq x_2 \\leq 1/2$ are\n",
    "$$x_2 = (1 - x_1) - \\sqrt{2}(1/2 - x_1)$$\n",
    "for the two values of $x_1$. Trying these two values yields\n",
    "$$x_1 = \\frac{(4 + 2\\sqrt{2}) - \\sqrt{20 + 14\\sqrt{2}}}{2(4 + 2\\sqrt{2})}$$\n",
    "as resulting in a smaller $\\big|p(x)\\big|$. Rearranging $x_1$ slightly for aesthetic purposes, and plugging in $x_2 = (1 - x_1) - \\sqrt{2}(1/2 - x_1)$, $x_3 = 1 - x_2$, and $x_4 = 1 - x_3$, gives us the interpolating points of\n",
    "$$\\boxed{x_1 = \\frac{(4 + 2\\sqrt{2}) - \\sqrt{20 + 14\\sqrt{2}}}{2(4 + 2\\sqrt{2})}, \\quad x_2 = \\frac{(4 + 2\\sqrt{2}) - (\\sqrt{2} - 1)\\sqrt{20 + 14\\sqrt{2}}}{2(4 + 2\\sqrt{2})}, \\quad x_3 = \\frac{(4 + 2\\sqrt{2}) + (\\sqrt{2} - 1)\\sqrt{20 + 14\\sqrt{2}}}{2(4 + 2\\sqrt{2})}, \\quad x_4 = \\frac{(4 + 2\\sqrt{2}) + \\sqrt{20 + 14\\sqrt{2}}}{2(4 + 2\\sqrt{2})}}$$\n",
    "Numerically, these are\n",
    "$$\\boxed{x_1 = 0.03806, \\quad x_2 = 0.30866, \\quad x_3 = 0.69134, \\quad x_4 = 0.96194}$$"
   ]
  },
  {
   "cell_type": "markdown",
   "id": "operating-knock",
   "metadata": {},
   "source": [
    "The extremal value $p(0)$ is\n",
    "$$p(0) = x_1x_2x_3x_4 = \\frac{\\left((24 + 16\\sqrt{2}) - (20 + 14\\sqrt{2})\\right)\\left((24 + 16\\sqrt{2}) - (3 - 2\\sqrt{2})(20 + 14\\sqrt{2})\\right)}{16(4 + 2\\sqrt{2})^4}$$\n",
    "$$p(0) = \\frac{\\left(4 + 2\\sqrt{2}\\right)\\left((24 + 16\\sqrt{2}) - (4  + 2\\sqrt{2})\\right)}{16(4 + 2\\sqrt{2})^4} = \\frac{20 + 14\\sqrt{2}}{16(4 + 2\\sqrt{2})^3} = \\frac{\\left(20+14\\sqrt{2}\\right)}{16\\left(160+112\\sqrt{2}\\right)}$$\n",
    "$$p(0) = \\frac{1}{128}$$\n",
    "And so\n",
    "$$\\max\\big|e(x)\\big| \\leq \\frac{1}{24 \\cdot 128} K_4 h^4 = \\frac{1}{3072}K_4h^4$$\n",
    "$$\\boxed{C = \\frac{1}{3072} \\approx 3.255 \\times 10^{-4}}$$"
   ]
  },
  {
   "cell_type": "markdown",
   "id": "minute-smart",
   "metadata": {},
   "source": [
    "## Q4"
   ]
  },
  {
   "cell_type": "markdown",
   "id": "thrown-newark",
   "metadata": {},
   "source": [
    "Since $x_1 = 0$ and $x_4 = 1$, we only have one free parameter for the interpolation points if we use symmetry. Then at least two of $|p(0)|, |p(y_0)|, |p(1/2)|$ are equal. To see why, suppose all three are distinct. Then we may vary $x_2$ (with $x_3 = 1 - x_2$) to decrease the largest of the three quantities until it becomes equal to the second largest of the three--at that point, decreasing it further would increase the other quantity to become the largest. But since $p(0) = x_1x_2x_3x_4 = 0$, this just becomes $|p(y_0)| = |p(1/2)|$ i.e.\n",
    "$$\\frac{1}{4} x_2^2 (1 - x_2)^2 = \\frac{1}{4} (1/2 - x_2)^2$$\n",
    "$$x_2(1 - x_2) = 1/2 - x_2$$\n",
    "$$x_2^2 - 2x_2 + 1/2 = 0$$\n",
    "$$x_2 = 1 \\pm \\sqrt{1/2}$$\n",
    "Since $0 < x_2 < 1/2$, we take $x_2 = 1 - \\frac{1}{\\sqrt{2}}$. Thus\n",
    "$$\\boxed{x_1 = 0, \\quad x_2 = 1 - \\frac{1}{\\sqrt{2}}, \\quad x_3 = \\frac{1}{\\sqrt{2}}, \\quad x_4 = 1}$$\n",
    "Or numerically,\n",
    "$$\\boxed{x_1 = 0, \\quad x_2 = 0.29289, \\quad x_3 = 0.70711, \\quad x_4 = 1}$$\n",
    "Then\n",
    "$$\\max \\big|p(x)\\big| = \\big|p(1/2)\\big| = \\frac{1}{4} (1/2 - x_2)^2 = \\frac{3 - 2\\sqrt{2}}{16}$$\n",
    "So $C = \\frac{1}{24}\\max \\big|p(x)\\big|$ i.e.\n",
    "$$\\boxed{C = \\frac{3 - 2\\sqrt{2}}{384} \\approx 4.468 \\times 10^{-4}}$$"
   ]
  },
  {
   "cell_type": "markdown",
   "id": "phantom-illustration",
   "metadata": {},
   "source": [
    "## Q5"
   ]
  },
  {
   "cell_type": "markdown",
   "id": "described-mistress",
   "metadata": {},
   "source": [
    "To make a fair comparison, we use the same number of points $M$ for each method. "
   ]
  },
  {
   "cell_type": "markdown",
   "id": "solved-design",
   "metadata": {},
   "source": [
    "**Q3 Method:** \\\n",
    "We require $4N$ data points, so $N = M/4$. Then $h = 4/M$, so\n",
    "$$\\max\\big|e(x)\\big| \\leq \\left(3.255 \\times 10^{-4}\\right)\\frac{4^4}{M^4} = 0.083328 M^{-4}$$"
   ]
  },
  {
   "cell_type": "markdown",
   "id": "usual-being",
   "metadata": {},
   "source": [
    "**Q4 Method:** \\\n",
    "We require $2N$ interior data points and $N + 1$ boundary data points, for a total of $3N + 1$ points. so $N = (M - 1)/3 \\approx M/3$ ($M$ is assumed to be large). Then $h = 3/M$, so\n",
    "$$\\max\\big|e(x)\\big| \\leq \\left(4.468 \\times 10^{-4}\\right)\\frac{3^4}{M^4} = 0.036191 M^{-4}$$"
   ]
  },
  {
   "cell_type": "markdown",
   "id": "olympic-member",
   "metadata": {},
   "source": [
    "**Conclusion:** *the Q4 method is more data efficient*, seeing that $0.036191 M^{-4} < 0.083328 M^{-4}$."
   ]
  },
  {
   "cell_type": "markdown",
   "id": "fifth-subdivision",
   "metadata": {},
   "source": [
    "## Q6"
   ]
  },
  {
   "cell_type": "markdown",
   "id": "attempted-longitude",
   "metadata": {},
   "source": [
    "**B(x) maximum error:** \\\n",
    "We numerically determine the maximum error to be\n",
    "$$\\boxed{\\max_{x > 0} \\big|\\arctan(x) - B(x)\\big| = 0.07111}$$"
   ]
  },
  {
   "cell_type": "markdown",
   "id": "requested-christmas",
   "metadata": {},
   "source": [
    "**P(x):** \\\n",
    "If we wish to constrain $P(0) = \\arctan(0) = 0$ and $P'(0) = \\arctan'(0) = 1$, we must set $C_0 = 0$ and $C_1 = 1$. Meanwhile, if we wish to retain the $x \\to \\infty$ asymptotic value, we see that\n",
    "$$\\lim_{x \\to \\infty} P(x) = \\frac{C_2}{A_2} = \\lim_{x \\to \\infty} \\arctan(x) = \\frac{\\pi}{2}$$\n",
    "So $C_2 = \\frac{\\pi}{2} A_2$. Finally, we can determine $A_2$ and $A_1$ by trial and error. Through this process, we get\n",
    "$$\\boxed{C_0 = 0, \\quad C_1 = 1, \\quad C_2 = \\frac{\\pi}{4}, \\quad A_1 = \\frac{\\pi}{4}, \\quad A_2 = \\frac{1}{2}}$$\n",
    "$$\\boxed{P(x) = \\frac{x + \\frac{\\pi}{4}x^2}{1 + \\frac{\\pi}{4}x + \\frac{1}{2}x^2}}$$\n",
    "Also, we ensure that $P(x)$ has no real poles for $x > 0$. This is true because the discriminant of the denominator is negative:\n",
    "$$\\Delta = \\frac{\\pi^2}{16} - 1 \\approx -0.383 < 0$$\n",
    "Finally, the maximum computed error for the obtained $P(x)$ is\n",
    "$$\\boxed{\\max_{x > 0} \\big|\\arctan(x) - P(x)\\big| = 0.04023}$$"
   ]
  },
  {
   "cell_type": "code",
   "execution_count": 7,
   "id": "interested-accent",
   "metadata": {},
   "outputs": [],
   "source": [
    "xlim = 200\n",
    "npts = 100000"
   ]
  },
  {
   "cell_type": "code",
   "execution_count": 8,
   "id": "alternative-cache",
   "metadata": {},
   "outputs": [],
   "source": [
    "def B(x):\n",
    "    return np.pi/2 * x/(1+x)"
   ]
  },
  {
   "cell_type": "code",
   "execution_count": 9,
   "id": "limiting-chinese",
   "metadata": {},
   "outputs": [],
   "source": [
    "def P(x):\n",
    "    \n",
    "    c0 = 0\n",
    "    c1 = 1\n",
    "    a2 = 1/2\n",
    "    c2 = np.pi/4\n",
    "    a1 = np.pi/4\n",
    "    \n",
    "    return (c0 + c1 * x + c2 * x * x) / (1 + a1 * x + a2 * x * x)"
   ]
  },
  {
   "cell_type": "code",
   "execution_count": 10,
   "id": "hydraulic-valuable",
   "metadata": {},
   "outputs": [
    {
     "name": "stdout",
     "output_type": "stream",
     "text": [
      "B(x) max error: 0.07111463690417996\n",
      "P(x) max error: 0.040234630458985565\n"
     ]
    },
    {
     "data": {
      "image/png": "[encoded data removed]",
      "text/plain": [
       "<Figure size 432x288 with 1 Axes>"
      ]
     },
     "metadata": {
      "needs_background": "light"
     },
     "output_type": "display_data"
    }
   ],
   "source": [
    "fig, ax = plt.subplots(figsize=(6,4))\n",
    "\n",
    "x = np.linspace(0, xlim, npts)\n",
    "e1 = np.arctan(x) - B(x)\n",
    "e2 = np.arctan(x) - P(x)\n",
    "\n",
    "ax.plot(x, e1, label='$B(x)$')\n",
    "print(f'B(x) max error: {np.max(np.abs(e1))}')\n",
    "ax.plot(x, e2, label='$P(x)$')\n",
    "print(f'P(x) max error: {np.max(np.abs(e2))}')\n",
    "\n",
    "ax.set_xlabel('x')\n",
    "ax.set_ylabel('Error')\n",
    "ax.legend()\n",
    "plt.show()"
   ]
  },
  {
   "cell_type": "markdown",
   "id": "arranged-toronto",
   "metadata": {},
   "source": [
    "**Justification of `xlim`:** \\\n",
    "We know that $\\arctan(x)$ is an increasing function since $\\arctan'(x) = 1/(1 + x^2) > 0$. Furthermore, $B(x)$ is also increasing, because $B(x) = \\frac{\\pi}{2} \\left(1 - \\frac{1}{1 + x}\\right)$, and $\\frac{1}{1 + x}$ decreases with increasing $x$ for $x > 0$.\\\n",
    "Finally, we show that $P(x)$ is increasing. That is, for $0 < x_1 < x_2$ we have $P(x_1) < P(x_2)$:\n",
    "$$x_1 < x_2 \\; \\therefore \\; x_1 + \\frac{\\pi}{4}x_1^2 < x_2 + \\frac{\\pi}{4}x_2^2 \\; \\therefore \\; x_1 + \\frac{\\pi}{4}x_1^2 + \\frac{\\pi}{4}x_1x_2 + \\frac{\\pi}{8}x_1^2x_2^2 < x_2 + \\frac{\\pi}{4}x_2^2 + \\frac{\\pi}{4}x_1x_2 + \\frac{\\pi}{8}x_1^2x_2^2$$\n",
    "Since $\\pi^2/16 - 1/2 > 0$:\n",
    "$$\\left(\\frac{\\pi^2}{16} - \\frac{1}{2}\\right)x_1 < \\left(\\frac{\\pi^2}{16} - \\frac{1}{2}\\right)x_2 \\; \\therefore \\; \\left(\\frac{\\pi^2}{16} - \\frac{1}{2}\\right)x_1^2x_2 < \\left(\\frac{\\pi^2}{16} - \\frac{1}{2}\\right)x_1x_2^2$$\n",
    "Thus\n",
    "$$x_1 + \\frac{\\pi}{4}x_1^2 + \\frac{\\pi}{4}x_1x_2 + \\frac{\\pi}{8}x_1^2x_2^2 + \\left(\\frac{\\pi^2}{16} - \\frac{1}{2}\\right)x_1^2x_2 < x_2 + \\frac{\\pi}{4}x_2^2 + \\frac{\\pi}{4}x_1x_2 + \\frac{\\pi}{8}x_1^2x_2^2 + \\left(\\frac{\\pi^2}{16} - \\frac{1}{2}\\right)x_1x_2^2$$\n",
    "$$x_1 + \\frac{\\pi}{4}x_1^2 + \\frac{\\pi}{4}x_1x_2 + \\frac{\\pi}{8}x_1^2x_2^2 + \\frac{\\pi^2}{16}x_1^2x_2 + \\frac{1}{2}x_1x_2^2 < x_2 + \\frac{\\pi}{4}x_2^2 + \\frac{\\pi}{4}x_1x_2 + \\frac{\\pi}{8}x_1^2x_2^2 + \\frac{\\pi^2}{16}x_1x_2^2 + \\frac{1}{2}x_1^2x_2$$\n",
    "We factor both sides of the inequality:\n",
    "$$\\left(x_1 + \\frac{\\pi}{4}x_1^2\\right)\\left(1 + \\frac{\\pi}{4}x_2 + \\frac{1}{2}x_2^2\\right) < \\left(x_2 + \\frac{\\pi}{4}x_2^2\\right)\\left(1 + \\frac{\\pi}{4}x_1 + \\frac{1}{2}x_1^2\\right)$$\n",
    "Note that the factors $\\left(x_i + \\frac{\\pi}{4}x_i^2\\right)$ and $\\left(1 + \\frac{\\pi}{4}x_i + \\frac{1}{2}x_i^2\\right)$ are positive for $x_i > 0$. Thus\n",
    "$$P(x_1) = \\frac{x_1 + \\frac{\\pi}{4}x_1^2}{1 + \\frac{\\pi}{4}x_1 + \\frac{1}{2}x_1^2} < P(x_2) = \\frac{x_2 + \\frac{\\pi}{4}x_2^2}{1 + \\frac{\\pi}{4}x_2 + \\frac{1}{2}x_2^2}$$"
   ]
  },
  {
   "cell_type": "markdown",
   "id": "offensive-digest",
   "metadata": {},
   "source": [
    "Also, $\\arctan(x)$, $B(x)$, and $P(x)$ are bounded above by $\\pi/2$. This is because they all are increasing and approach $\\pi/2$ as $x \\to \\infty$."
   ]
  },
  {
   "cell_type": "markdown",
   "id": "historic-burner",
   "metadata": {},
   "source": [
    "Now in the numerical calculations, the error was only computed for $x \\in [0, x_{lim}]$. Then let $e_0$ be the maximum error computed for $x \\in [0, x_{lim}]$, $e_1$ be the maximum error for $x \\in (x_{lim}, \\infty)$, and $e$ be the true maximum error i.e. for $x \\in [0, \\infty)$. Hence $e = \\max(e_0, e_1)$. Then the cutoff $x_{lim}$ is justified if $e_1 < e_0$ so that $e = e_0$ i.e. the computed maximum error is indeed the maximum error for all $x > 0$."
   ]
  },
  {
   "cell_type": "markdown",
   "id": "polish-conviction",
   "metadata": {},
   "source": [
    "Let $f(x)$ be any increasing function bounded above by $\\pi/2$ (namely, $f(x) = \\arctan(x), B(x), P(x)$). If $f(x_{lim}) > \\pi/2 - e_0$, then $\\pi/2 - e_0 < f(x) < \\pi/2$ for all $x \\in (x_{lim}, \\infty)$. Letting $f(x)$ be $B(x)$ and $\\arctan(x)$ and $e_0$ be the computed maximum error for $B(x)$ tells us that\n",
    "$$\\pi/2 - e_0 < \\arctan(x), B(x), \\pi/2 \\; \\therefore \\; \\big|\\arctan(x) - B(x)\\big| < e_0$$\n",
    "for $x > x_{lim}$. Similarly, if we use $P(x)$ in place of $B(x)$, we get\n",
    "$$\\big|\\arctan(x) - P(x)\\big| < e_0$$\n",
    "for $x > x_{lim}$ with $e_0$ being the computed maximum error for $P(x)$. We verify below that this is the case--thus the computed $e_0$ values for $B(x)$ and $P(x)$ are indeed maximal errors for all $x > 0$."
   ]
  },
  {
   "cell_type": "code",
   "execution_count": 11,
   "id": "charitable-military",
   "metadata": {},
   "outputs": [
    {
     "name": "stdout",
     "output_type": "stream",
     "text": [
      "pi/2 - arctan(200) = 0.0049999583339581655\n",
      "pi/2 - B(200) = 0.007814907098482093\n",
      "pi/2 - P(200) = 0.0023966026146511332\n"
     ]
    }
   ],
   "source": [
    "print(f'pi/2 - arctan({xlim}) = {np.pi/2 - np.arctan(xlim)}')\n",
    "print(f'pi/2 - B({xlim}) = {np.pi/2 - B(xlim)}')\n",
    "print(f'pi/2 - P({xlim}) = {np.pi/2 - P(xlim)}')"
   ]
  },
  {
   "cell_type": "markdown",
   "id": "stone-syria",
   "metadata": {},
   "source": [
    "## Q7"
   ]
  },
  {
   "cell_type": "markdown",
   "id": "trying-grave",
   "metadata": {},
   "source": [
    "We can split the integral as\n",
    "$$\\int_0^1 \\frac{\\exp(x^2)\\cos(x)}{x^{2/3}} dx = \\int_0^\\varepsilon \\frac{\\exp(x^2)\\cos(x)}{x^{2/3}} dx + \\int_\\varepsilon^1 \\frac{\\exp(x^2)\\cos(x)}{x^{2/3}} dx$$\n",
    "for $0 < \\varepsilon < 1$. To avoid the singularity at $x = 0$, we approximate the first term as\n",
    "$$\\int_0^\\varepsilon \\frac{\\exp(x^2)\\cos(x)}{x^{2/3}} dx \\approx \\int_0^\\varepsilon \\frac{1}{x^{2/3}} dx = 3\\varepsilon^{1/3}$$\n",
    "Now define $e(x) = \\exp(x^2)\\cos(x) - 1$. Taking power series expansions of $\\exp(x^2)$ and $\\cos(x)$ gives us\n",
    "$$e(x) = \\left(1 + x^2 + P(x^4)\\right)\\left(1 - \\frac{x^2}{2} + P(x^4)\\right) - 1 = \\frac{x^2}{2} + P(x^4)$$\n",
    "where $P(x^n)$ stands for a sum of integer powers of $x$ of degree $n$ or higher. When $\\varepsilon$ is small, $P(x^4)$ becomes negligible compared to $\\frac{x^2}{2}$ for $0 < x < \\varepsilon$, so we can take only the leading order term. Thus\n",
    "$$\\bigg|\\int_0^\\varepsilon \\frac{\\exp(x^2)\\cos(x)}{x^{2/3}} dx - \\int_0^\\varepsilon \\frac{1}{x^{2/3}} dx\\bigg| \\approx \\bigg|\\int_0^\\varepsilon \\frac{x^2/2}{x^{2/3}}\\bigg| = \\frac{3}{14}\\varepsilon^{7/3}$$\n",
    "Since we want the error of the overall integral to be less than $10^{-3}$, we shall constrain the error of this integral to be less than $10^{-4}$. Solving for $\\varepsilon$ in $\\frac{3}{14}\\varepsilon^{7/3} < 10^{-4}$ gives us $\\varepsilon < 0.0373$. We shall simply take\n",
    "$$\\varepsilon = 0.035$$"
   ]
  },
  {
   "cell_type": "markdown",
   "id": "rubber-highlight",
   "metadata": {},
   "source": [
    "Now the derivative of the integrand $f(x) = \\exp(x^2)\\cos(x)x^{-2/3}$ is\n",
    "$$f'(x) = 2x\\exp(x^2)\\cos(x)x^{-2/3} - \\exp(x^2)\\sin(x)x^{-2/3} - \\frac{2}{3}\\exp(x^2)\\cos(x)x^{-5/3} = \\exp(x^2)x^{-5/3}\\left(2x^2\\cos(x) - x\\sin(x) - \\frac{2}{3}\\right)$$\n",
    "On the interval $(\\varepsilon, 1)$ we have $\\big|\\exp(x^2)\\big| \\leq e$, $\\big|x^{-5/3}\\big| \\leq \\varepsilon^{-5/3}$, and $\\big|2x^2\\cos(x) - x\\sin(x) - \\frac{2}{3}\\big| < 2 + 1 + \\frac{2}{3} = \\frac{11}{3}$. And so\n",
    "$$\\big|f'(x)\\big| < \\frac{11e}{3}\\varepsilon^{-5/3} = 2661.5 < 2680$$\n",
    "Finally, if we use the right Riemann sum on the slice $[x_0, x_0 + h]$, we have an error bound of\n",
    "$$\\big|E_h\\big| = \\bigg|\\int_{x_0}^{x_0 + h}f(x)dx - f(x_0 + h)\\bigg| = \\bigg|\\int_{x_0}^{x_0 + h}\\left[f(x) - f(x_0 + h)\\right]dx\\bigg| = \\bigg|\\int_{x_0}^{x_0 + h}f'(\\xi(x))(x - x_0 - h)dx\\bigg|$$\n",
    "where $x < \\xi(x) < x_0 + h$. Continuing,\n",
    "$$\\big|E_h\\big| = \\bigg|\\int_{0}^{h}f'(\\xi(x + x_0))(x - h)dx\\bigg| \\leq \\left(\\max_{y \\in (x_0, x_0 + h)} \\big| f'(y) \\big| \\right)\\int_{0}^{h} \\big| x - h \\big|dx$$\n",
    "$$\\big|E_h\\big| \\leq \\left(\\max_{y \\in (0, 1)} \\big| f'(y) \\big| \\right)\\int_{0}^{h} (h-x) dx < 1340h^2$$\n",
    "There will be $\\frac{1 - 0.035}{h} = \\frac{0.965}{h}$ subintervals for the $\\int_\\varepsilon^1 \\frac{\\exp(x^2)\\cos(x)}{x^{2/3}} dx$ integral. The global error is therefore bounded by\n",
    "$$\\big|\\mathcal{E}_h\\big| \\leq 1340h^2\\left(\\frac{0.965}{h}\\right) = 1293.1h < 1300h$$"
   ]
  },
  {
   "cell_type": "markdown",
   "id": "dying-breach",
   "metadata": {},
   "source": [
    "To account for the $10^{-4}$ error from before, as well as to add a safety factor, we shall bound $\\big|\\mathcal{E}_h\\big| < 7 \\times 10^{-4}$. That gives us $h \\leq 5.385 \\times 10^{-7}$. Then the number of subintervals $N$ must be at least $\\frac{0.965}{5.385 \\times 10^{-7}} = 1.792 \\times 10^6$. To give a margin, we select $N = 2 \\times 10^6$."
   ]
  },
  {
   "cell_type": "code",
   "execution_count": 8,
   "id": "certified-third",
   "metadata": {},
   "outputs": [],
   "source": [
    "eps = 0.035\n",
    "N = int(2e6)\n",
    "h = (1 - eps) / N"
   ]
  },
  {
   "cell_type": "code",
   "execution_count": 9,
   "id": "violent-chile",
   "metadata": {},
   "outputs": [],
   "source": [
    "x = np.linspace(eps, 1, N+1)\n",
    "y = np.exp(x*x) * np.cos(x) / np.power(x, 2/3)"
   ]
  },
  {
   "cell_type": "code",
   "execution_count": 10,
   "id": "considerable-texas",
   "metadata": {},
   "outputs": [
    {
     "name": "stdout",
     "output_type": "stream",
     "text": [
      "Integral = 3.2136306932738297\n"
     ]
    }
   ],
   "source": [
    "# Right Riemann sum\n",
    "I1 = 3 * np.power(eps, 1/3)\n",
    "I2 = np.sum(y[1:]) * h\n",
    "print(f'Integral = {I1 + I2}')"
   ]
  },
  {
   "cell_type": "markdown",
   "id": "purple-heritage",
   "metadata": {},
   "source": [
    "So the integral evaluates to\n",
    "$$\\boxed{\\int_0^1 \\frac{\\exp(x^2)\\cos(x)}{x^{2/3}} dx \\approx 3.214}$$\n",
    "within an error of $10^{-3}$."
   ]
  },
  {
   "cell_type": "markdown",
   "id": "clinical-means",
   "metadata": {},
   "source": [
    "Finally, a remark about floating-point precision is in order here. The double-precision float (which NumPy uses by default) has 52 mantissa bits i.e. between 15 and 16 significant figures in base 10. The integral is clearly less than 10, as we can also see from how\n",
    "$$\\bigg|\\int_\\varepsilon^1 \\frac{\\exp(x^2)\\cos(x)}{x^{2/3}}dx\\bigg| \\leq e\\int_\\varepsilon^1 \\frac{dx}{x^{2/3}}\\bigg| = 3e(1 - \\varepsilon^{2/3}) = 7.28 < 10$$\n",
    "This means that our error bound of $5 \\times 10^{-4}$ for each subinterval is roughly 4 orders of magnitude less than the total integral. Since we are adding the integrals of each subinterval together, the floating-point error should be much less than 4 significant figures. And this is indeed the case for 15 to 16 significant digits."
   ]
  },
  {
   "cell_type": "code",
   "execution_count": null,
   "id": "reasonable-strike",
   "metadata": {},
   "outputs": [],
   "source": []
  }
 ],
 "metadata": {
  "kernelspec": {
   "display_name": "Python 3",
   "language": "python",
   "name": "python3"
  },
  "language_info": {
   "codemirror_mode": {
    "name": "ipython",
    "version": 3
   },
   "file_extension": ".py",
   "mimetype": "text/x-python",
   "name": "python",
   "nbconvert_exporter": "python",
   "pygments_lexer": "ipython3",
   "version": "3.9.1"
  }
 },
 "nbformat": 4,
 "nbformat_minor": 5
}
