{
 "cells": [
  {
   "cell_type": "markdown",
   "id": "bottom-matrix",
   "metadata": {},
   "source": [
    "# MATH 406 Assignment 1"
   ]
  },
  {
   "cell_type": "markdown",
   "id": "discrete-writer",
   "metadata": {},
   "source": [
    "**Name:** James Wu\\\n",
    "**Student number:** 92277235"
   ]
  },
  {
   "cell_type": "code",
   "execution_count": 1,
   "id": "worse-attribute",
   "metadata": {},
   "outputs": [],
   "source": [
    "### IMPORTS ###\n",
    "import numpy as np\n",
    "import matplotlib.pyplot as plt\n",
    "from scipy.interpolate import approximate_taylor_polynomial as taylor"
   ]
  },
  {
   "cell_type": "markdown",
   "id": "drawn-method",
   "metadata": {},
   "source": [
    "## Q1"
   ]
  },
  {
   "cell_type": "markdown",
   "id": "demonstrated-genre",
   "metadata": {},
   "source": [
    "### Q1(a)"
   ]
  },
  {
   "cell_type": "markdown",
   "id": "surprised-offense",
   "metadata": {},
   "source": [
    "With 2 points, we use linear interpolation. Solving for $a$ and $b$ in the interpolating function $L(x) = ax + b$ using $L(0) = 0$ and $L(1) = 1$ gives us\n",
    "$$L(x) = x$$\n",
    "on $[0,1]$. Then $f(1/2) \\approx L(1/2)$, so\n",
    "$$\\boxed{f(1/2) \\approx 1/2}$$"
   ]
  },
  {
   "cell_type": "code",
   "execution_count": 2,
   "id": "previous-behalf",
   "metadata": {},
   "outputs": [
    {
     "name": "stdout",
     "output_type": "stream",
     "text": [
      "Polynomial coeffs: [1. 0.]\n",
      "f(1/2): 0.5\n"
     ]
    }
   ],
   "source": [
    "# Given data\n",
    "x = np.array([0, 1])\n",
    "y = np.array([0, 1])\n",
    "\n",
    "# Polynomial coeffs\n",
    "c = np.linalg.solve(np.vander(x), y)\n",
    "print(f'Polynomial coeffs: {c}')\n",
    "\n",
    "# Evaluate f(1/2)\n",
    "ans = np.polyval(c, 1/2)\n",
    "print(f'f(1/2): {ans}')"
   ]
  },
  {
   "cell_type": "markdown",
   "id": "connected-carroll",
   "metadata": {},
   "source": [
    "### Q1(b)"
   ]
  },
  {
   "cell_type": "markdown",
   "id": "seventh-finding",
   "metadata": {},
   "source": [
    "With 3 points, we use quadratic interpolation. Solving for $a$, $b$, and $c$ in the interpolating function $Q(x) = ax^2 + bx + c$ using $Q(0) = 0$, $Q(1) = 1$, and $Q(-1) = 1/2$ gives us\n",
    "$$Q(x) = \\frac{3}{4}x^2 + \\frac{1}{4}x$$\n",
    "on $[-1,1]$. Then $f(1/2) \\approx Q(1/2)$, so\n",
    "$$\\boxed{f(1/2) \\approx 5/16}$$"
   ]
  },
  {
   "cell_type": "code",
   "execution_count": 3,
   "id": "reserved-mississippi",
   "metadata": {},
   "outputs": [
    {
     "name": "stdout",
     "output_type": "stream",
     "text": [
      "Polynomial coeffs: [0.75 0.25 0.  ]\n",
      "f(1/2): 0.3125\n"
     ]
    }
   ],
   "source": [
    "# Given data\n",
    "x = np.array([0, 1, -1])\n",
    "y = np.array([0, 1, 1/2])\n",
    "\n",
    "# Polynomial coeffs\n",
    "c = np.linalg.solve(np.vander(x), y)\n",
    "print(f'Polynomial coeffs: {c}')\n",
    "\n",
    "# Evaluate f(1/2)\n",
    "ans = np.polyval(c, 1/2)\n",
    "print(f'f(1/2): {ans}')"
   ]
  },
  {
   "cell_type": "markdown",
   "id": "straight-brazilian",
   "metadata": {},
   "source": [
    "### Q1(c)"
   ]
  },
  {
   "cell_type": "markdown",
   "id": "covered-poster",
   "metadata": {},
   "source": [
    "With 4 points, we use cubic interpolation. Solving for $a$, $b$, $c$, and $d$ in the interpolating function $C(x) = ax^3 + bx^2 + cx + d$ using $C(0) = 0$, $C(1) = 1$, $C(-1) = 1/2$, and $C(2) = 2$ gives us\n",
    "$$C(x) = -\\frac{1}{4}x^3 + \\frac{3}{4}x^2 + \\frac{1}{2}x$$\n",
    "$$C'(x) = -\\frac{3}{4}x^2 + \\frac{3}{2}x + \\frac{1}{2}$$\n",
    "on $[-1,2]$. Then $f'(0) \\approx C'(0)$, so\n",
    "$$\\boxed{f'(0) \\approx 1/2}$$"
   ]
  },
  {
   "cell_type": "code",
   "execution_count": 4,
   "id": "duplicate-canadian",
   "metadata": {
    "scrolled": true
   },
   "outputs": [
    {
     "name": "stdout",
     "output_type": "stream",
     "text": [
      "Polynomial coeffs: [-0.25  0.75  0.5   0.  ]\n",
      "Differentiated coeffs: [-0.75  1.5   0.5 ]\n",
      "f'(0): 0.5\n"
     ]
    }
   ],
   "source": [
    "# Given data\n",
    "x = np.array([0, 1, -1, 2])\n",
    "y = np.array([0, 1, 1/2, 2])\n",
    "\n",
    "# Polynomial coeffs\n",
    "c = np.linalg.solve(np.vander(x), y)\n",
    "print(f'Polynomial coeffs: {c}')\n",
    "\n",
    "# Differentiate polynomial\n",
    "dc = np.polyder(c)\n",
    "print(f'Differentiated coeffs: {dc}')\n",
    "\n",
    "# Evaluate f'(0)\n",
    "ans = np.polyval(dc, 0)\n",
    "print(f\"f'(0): {ans}\")"
   ]
  },
  {
   "cell_type": "markdown",
   "id": "experimental-madagascar",
   "metadata": {},
   "source": [
    "### Q1(d)"
   ]
  },
  {
   "cell_type": "markdown",
   "id": "heavy-tribune",
   "metadata": {},
   "source": [
    "With 3 points, we use quadratic interpolation. Solving for $a$, $b$, and $c$ in the interpolating function $Q(x) = ax^2 + bx + c$ using $Q(0) = 1/2$, $Q(1) = 1$, and $Q(-1) = -1$ gives us\n",
    "$$Q(x) = -\\frac{1}{2}x^2 + x + \\frac{1}{2}$$\n",
    "on $[-1,1]$. Using the quadratic equation for $Q(x) = 0$ gets us the roots\n",
    "$$x = \\frac{-1 \\pm \\sqrt{1 + 1}}{-1} = 1 \\pm \\sqrt{2}$$\n",
    "Although $1 - \\sqrt{2} \\in [-1,1]$, we have $1 + \\sqrt{2} \\notin [-1,1]$. Since our interpolation is only valid on $[-1,1]$, we approximate a root as\n",
    "$$\\boxed{x \\approx 1 - \\sqrt{2} \\approx -0.414}$$"
   ]
  },
  {
   "cell_type": "code",
   "execution_count": 5,
   "id": "caroline-sucking",
   "metadata": {},
   "outputs": [
    {
     "name": "stdout",
     "output_type": "stream",
     "text": [
      "Polynomial coeffs: [-0.5  1.   0.5]\n",
      "Roots: [ 2.41421356 -0.41421356]\n"
     ]
    }
   ],
   "source": [
    "# Given data\n",
    "x = np.array([0, 1, -1])\n",
    "y = np.array([1/2, 1, -1])\n",
    "\n",
    "# Polynomial coeffs\n",
    "c = np.linalg.solve(np.vander(x), y)\n",
    "print(f'Polynomial coeffs: {c}')\n",
    "\n",
    "# Roots of quadratic\n",
    "ans = np.roots(c)\n",
    "print(f'Roots: {ans}')"
   ]
  },
  {
   "cell_type": "markdown",
   "id": "documented-orleans",
   "metadata": {},
   "source": [
    "## Q2"
   ]
  },
  {
   "cell_type": "markdown",
   "id": "portable-portuguese",
   "metadata": {},
   "source": [
    "First we numerically check the relative truncation error to get an *ansatz* of the number of terms we should have:"
   ]
  },
  {
   "cell_type": "code",
   "execution_count": 6,
   "id": "veterinary-involvement",
   "metadata": {},
   "outputs": [
    {
     "name": "stdout",
     "output_type": "stream",
     "text": [
      "Max rel error for deg = 1: 0.07840485667761549\n",
      "Max rel error for deg = 2: 0.07822539239066759\n",
      "Max rel error for deg = 3: 0.011461804276752608\n",
      "Max rel error for deg = 4: 0.011434873241395872\n",
      "Max rel error for deg = 5: 0.0020473765267338697\n"
     ]
    },
    {
     "data": {
      "image/png": "[encoded data removed]",
      "text/plain": [
       "<Figure size 864x576 with 1 Axes>"
      ]
     },
     "metadata": {
      "needs_background": "light"
     },
     "output_type": "display_data"
    }
   ],
   "source": [
    "fig, ax = plt.subplots(figsize=(12,8))\n",
    "\n",
    "x = np.linspace(0.01, 1/2, 1000)\n",
    "y = np.arctan(x)\n",
    "\n",
    "for deg in range(1, 6):\n",
    "    err = (taylor(np.arctan, 0, deg, 0.001)(x) - y)/y\n",
    "    ax.plot(x, err, label=f'deg = {deg}')\n",
    "    print(f'Max rel error for deg = {deg}: {np.max(np.abs(err))}')\n",
    "\n",
    "ax.set_xlabel('x')\n",
    "ax.set_ylabel('Relative Error')\n",
    "ax.legend()\n",
    "plt.show()"
   ]
  },
  {
   "cell_type": "markdown",
   "id": "undefined-simple",
   "metadata": {},
   "source": [
    "So we should expect to go up to fifth order to have a relative error less than 1%; we will now prove this to be the case. Recall that the Taylor series for $\\arctan(x)$ about $x = 0$ exists and converges on $[-1,1] \\supset [0,1/2]$ as\n",
    "$$\\arctan(x) = \\sum_{n=0}^\\infty (-1)^n \\frac{x^{2n+1}}{2n+1}$$\n",
    "The presence of only odd powers is indeed supported by the above numerical results (based on how the error only changes every two degrees). We differentiate\n",
    "$$\\arctan'(x) = \\frac{1}{1 + x^2}$$\n",
    "So on $[0,1/2]$, we have $4/5 \\leq \\arctan'(x) \\leq 1$. By MVT we have (note that $\\arctan(x) \\geq 0$ in this interval)\n",
    "$$\\frac{4}{5}x \\leq \\big|\\arctan(x)\\big| \\leq x$$\n",
    "Now let $E_N(x)$ be the error of the Taylor polynomial of degree $N$ evaluated at $x$ i.e.\n",
    "$$E_N(x) = \\sum_{n = \\lceil N/2 \\rceil}^\\infty (-1)^n \\frac{x^{2n+1}}{2n+1}$$\n",
    "Now notice that successive terms decrease in magnitude on $x \\in [0,1/2]$:\n",
    "$$0 < \\frac{2n+1}{2n+3} x^2 < 1 \\; \\therefore \\; \\frac{x^{2n+3}}{2n+3} = \\frac{2n+1}{2n+3} x^2 \\frac{x^{2n+1}}{2n+1} < \\frac{x^{2n+1}}{2n+1}$$\n",
    "Since the series alternates and is decreasing in magnitude versus $n$ for $x \\geq 0$, we can bound\n",
    "$$\\frac{x^{2\\lceil N/2 \\rceil + 1}}{2\\lceil N/2 \\rceil + 1} - \\frac{x^{2\\lceil N/2 \\rceil + 3}}{2\\lceil N/2 \\rceil + 3} \\leq \\big|E_N(x)\\big| \\leq \\frac{x^{2\\lceil N/2 \\rceil + 1}}{2\\lceil N/2 \\rceil + 1}$$\n",
    "Then the relative error $r_N(x) = \\frac{\\big|E_N(x)\\big|}{\\big|\\arctan(x)\\big|}$ is bounded as\n",
    "$$\\frac{x^{2\\lceil N/2 \\rceil}}{2\\lceil N/2 \\rceil + 1} - \\frac{x^{2\\lceil N/2 \\rceil + 2}}{2\\lceil N/2 \\rceil + 3} \\leq r_N(x) \\leq \\frac{5}{4}\\frac{x^{2\\lceil N/2 \\rceil}}{2\\lceil N/2 \\rceil + 1}$$"
   ]
  },
  {
   "cell_type": "markdown",
   "id": "rotary-shelf",
   "metadata": {},
   "source": [
    "For $N = 4$, at $x = 1/2$ we have\n",
    "$$r_4(1/2) \\geq \\frac{(1/2)^4}{5} - \\frac{(1/2)^6}{7} = \\frac{23}{2240} > \\frac{23}{2300} = 1\\%$$\n",
    "So the relative error is *not* bounded by 1% on $[0,1/2$] for $N = 4$. Now we check $N = 5$:\n",
    "$$r_5(x) \\leq \\frac{5}{4} \\frac{x^6}{7} \\leq \\frac{5}{4} \\frac{(1/2)^6}{7} = \\frac{5}{1792} < \\frac{5}{500} = 1\\%$$\n",
    "The first inequality follows from how $x \\leq 1/2$. Thus the $N = 5$ polynomial does have a relative error less than 1% on $[0,1/2]$."
   ]
  },
  {
   "cell_type": "markdown",
   "id": "guilty-scott",
   "metadata": {},
   "source": [
    "So we must use the Taylor polynomial\n",
    "$$\\boxed{T_5(x) = x - \\frac{x^3}{3} + \\frac{x^5}{5}}$$\n",
    "to obtain a relative error less than 1%. Though we may quibble over whether this counts as three terms or six (i.e. whether we should count the even powers of $x$, which have coefficients of zero), the Taylor polynomial required is unambiguous."
   ]
  },
  {
   "cell_type": "markdown",
   "id": "effective-quarter",
   "metadata": {},
   "source": [
    "## Q3"
   ]
  },
  {
   "cell_type": "markdown",
   "id": "foster-program",
   "metadata": {},
   "source": [
    "Using shape functions, we have\n",
    "$$F(x) = \\sum_{i=1}^4 f(x_i) \\frac{\\prod_{j \\neq i} (x - x_j)}{\\prod_{j \\neq i} (x_i - x_j)}$$\n",
    "We assume $f(x)$ is analytic on the reference interval $[0,1]$ (which is true if $f$ is analytic in any neighbourhood of $x$ in the original interval since $h$ can be made to be arbitrarily small). Taylor expanding $f(x_i)$ about $x$ gets us\n",
    "$$F(x) = T_0(x) + T_1(x) + T_2(x) + T_3(x) + T_4(x) + O(h^5)$$\n",
    "where\n",
    "$$T_0(x) = \\sum_{i=1}^4 f(x) \\frac{\\prod_{j \\neq i} (x - x_j)}{\\prod_{j \\neq i} (x_i - x_j)} = f(x) P_0(x)$$\n",
    "$$P_0(x) = \\sum_{i=1}^4 \\frac{\\prod_{j \\neq i} (x - x_j)}{\\prod_{j \\neq i} (x_i - x_j)}$$\n",
    "$$T_1(x) = \\sum_{i=1}^4 f'(x) \\frac{\\prod_{j = 1}^4 (x - x_j)}{\\prod_{j \\neq i} (x_i - x_j)} = f'(x) P_1(x)$$\n",
    "$$P_1(x) = \\sum_{i=1}^4 \\frac{\\prod_{j = 1}^4 (x - x_j)}{\\prod_{j \\neq i} (x_i - x_j)} = \\prod_{j = 1}^4 (x - x_j) \\sum_{i=1}^4 \\frac{1}{\\prod_{j \\neq i} (x_i - x_j)}$$\n",
    "$$T_2(x) = \\sum_{i=1}^4 \\frac{f''(x)}{2} \\frac{(x - x_i)\\prod_{j = 1}^4 (x - x_j)}{\\prod_{j \\neq i} (x_i - x_j)} = \\frac{f''(x)}{2} P_2(x)$$\n",
    "$$P_2(x) = \\prod_{j = 1}^4 (x - x_j) \\sum_{i=1}^4 \\frac{(x - x_i)}{\\prod_{j \\neq i} (x_i - x_j)}$$\n",
    "$$T_3(x) = \\sum_{i=1}^4 \\frac{f^{(3)}(x)}{6} \\frac{(x - x_i)^2\\prod_{j = 1}^4 (x - x_j)}{\\prod_{j \\neq i} (x_i - x_j)} = \\frac{f^{(3)}(x)}{6} P_3(x)$$\n",
    "$$P_3(x) = \\prod_{j = 1}^4 (x - x_j) \\sum_{i=1}^4 \\frac{(x - x_i)^2}{\\prod_{j \\neq i} (x_i - x_j)}$$\n",
    "$$T_4(x) = \\sum_{i=1}^4 \\frac{f^{(4)}(x)}{24} \\frac{(x - x_i)^3\\prod_{j = 1}^4 (x - x_j)}{\\prod_{j \\neq i} (x_i - x_j)} = \\frac{f^{(4)}(x)}{24} P_4(x)$$\n",
    "$$P_4(x) = \\prod_{j = 1}^4 (x - x_j) \\sum_{i=1}^4 \\frac{(x - x_i)^3}{\\prod_{j \\neq i} (x_i - x_j)}$$"
   ]
  },
  {
   "cell_type": "markdown",
   "id": "amazing-runner",
   "metadata": {},
   "source": [
    "Notice that for $i = 1, 2, 3, 4$ we have\n",
    "$$P_0(x_i) = \\frac{\\prod_{j \\neq i} (x - x_j)}{\\prod_{j \\neq i} (x_i - x_j)} = 1$$\n",
    "Since $P_0(x)$ is a polynomial of degree at most 3 (each term is a product of three $(x - x_j)$), its derivative is a polynomial of degree at most two. But since $P_0(x)$ has four roots, its derivative has three roots by Rolle's theorem. Its derivative must therefore be the zero function (since nonzero polynomials of degree at most two can have at most two roots). Therefore $P_0(x) = 1$ is a constant function."
   ]
  },
  {
   "cell_type": "markdown",
   "id": "needed-rabbit",
   "metadata": {},
   "source": [
    "Meanwhile, we shall show for $n \\geq 2$ that\n",
    "$$q_1(x) = \\sum_{i=1}^n \\frac{1}{\\prod_{j \\neq i} (x_i - x_j)} = 0$$\n",
    "with $n = 4$ as a special case. This can be seen by performing partial fraction decomposition on the $i=1$ term with $x_1$ as the independent variable (recall that the numerator in the term with $(x_i - x_j)$ as the denominator can be obtained by multiplying the original rational function by $(x_i - x_j)$ and subtituting $x_i = x_j$):\n",
    "$$\\frac{1}{\\prod_{j=2}^n (x_1 - x_j)} = \\sum_{i=2}^n \\frac{1}{(x_1 - x_i) \\prod_{j=2, j \\neq i}^n (x_i - x_j)} = - \\sum_{i=2}^n \\frac{1}{\\prod_{j \\neq i} (x_i - x_j)}$$\n",
    "This cancels out with all the other terms in the expression. This implies that $P_1(x)$ is zero.\n",
    "We can similarly do PFD for\n",
    "$$q_2(x) = \\sum_{i=1}^n \\frac{(x - x_i)}{\\prod_{j \\neq i} (x_i - x_j)} = 0$$\n",
    "and\n",
    "$$q_3(x) = \\sum_{i=1}^n \\frac{(x - x_i)^2}{\\prod_{j \\neq i} (x_i - x_j)} = 0$$\n",
    "on the first term and cancel out all the other terms, allowing us to conclude $P_2(x)$ and $P_3(x)$ to be zero."
   ]
  },
  {
   "cell_type": "markdown",
   "id": "black-graduation",
   "metadata": {},
   "source": [
    "Now for $P_4(x)$ and $n = 4$, we cannot immediately use PFD because the degree of the numerator is the same as the degree of the denominator as a rational function of $x_i$. Instead, we rexpress the first term of $q_4(x)$ as\n",
    "$$\\frac{(x - x_1)^3}{\\prod_{j \\neq 1} (x_1 - x_j)} = -1 + \\frac{(x - x_1)^3 + \\prod_{j \\neq 1} (x_1 - x_j)}{\\prod_{j \\neq i} (x_1 - x_j)}$$\n",
    "The numerator $(x - x_1)^3 + \\prod_{j \\neq 1} (x_1 - x_j)$ is now at most degree 2 in $x_1$, with the $x_1^3$ term having a coefficient of zero in this expression. Performing PFD gets us\n",
    "$$\\frac{(x - x_1)^3}{\\prod_{j \\neq 1} (x_1 - x_j)} = -1 - \\sum_{i=2}^4 \\frac{(x - x_i)^3}{\\prod_{j \\neq i} (x_i - x_j)}$$\n",
    "The latter term cancels out with the other terms of $q_4(x)$ so we have $q_4(x) = -1$."
   ]
  },
  {
   "cell_type": "markdown",
   "id": "played-gardening",
   "metadata": {},
   "source": [
    "We now arrive at\n",
    "$$F(x) = f(x) - \\frac{f^{(4)}(x)}{24} \\prod_{i = 1}^4 (x - x_i) + O(h^5)$$\n",
    "The error is then\n",
    "$$e(x) = f(x) - F(x) = \\frac{f^{(4)}(x)}{24} \\prod_{i = 1}^4 (x - x_i) + O(h^5)$$\n",
    "To leading order (i.e. $h^4$) the error is bounded by\n",
    "$$\\big| e(x) \\big| = \\big| f(x) - F(x) \\big| \\leq \\frac{1}{24} \\max \\bigg| f^{(4)}(x) \\prod_{i = 1}^4 (x - x_i) \\bigg| = \\frac{1}{24} \\max \\bigg| \\prod_{i = 1}^4 (x - x_i) \\bigg| K_4 h^4$$"
   ]
  },
  {
   "cell_type": "markdown",
   "id": "copyrighted-explorer",
   "metadata": {},
   "source": [
    "We now seek to minimize $\\max \\bigg| \\prod_{i = 1}^4 (x - x_i) \\bigg|$ by varying $x_i$; for convenience we define $p(x) = \\prod_{i = 1}^4 (x - x_i)$. We utilize the hint by assuming symmetry and we seek to balance the extrema of $p(x)$. Note that $p(x)$ has 3 extrema as it is a fourth degree polynomial: $x = y_0, y_1, y_2$. By Rolle's theorem, these are located as $x_1 < y_0 < x_2$, $x_2 < y_1 < x_3$, and $x_3 < y_2 < x_4$. By symmetry about $x = 1/2$, $p(0) = p(1)$, $p(y_0) = p(y_2)$, and $y_1 = 1/2$. Also, $x_4 = 1 - x_1$ and $x_3 = 1 - x_2$. We therefore need only equate $p(0) = p(y_0) = p(1/2)$."
   ]
  },
  {
   "cell_type": "markdown",
   "id": "downtown-entity",
   "metadata": {},
   "source": [
    "We compute\n",
    "$$p(x) = (x - x_1)(x - x_2)(x - (1 - x_1))(x - (1 - x_2))$$\n",
    "$$p(0) = x_1x_2(1-x_1)(1-x_2)$$\n",
    "$$p(1/2) = (1/2 - x_1)^2 (1/2 - x_2)^2$$"
   ]
  },
  {
   "cell_type": "markdown",
   "id": "clinical-amateur",
   "metadata": {},
   "source": [
    "Using WolframAlpha, we find\n",
    "$$y_0 = \\frac{1}{2} - \\frac{1}{2}\\sqrt{1 - 2x_1 + 2x_1^2 - 2x_2 + 2x_2^2}$$\n",
    "$$p(y_0) = -\\frac{1}{4}(x_2 - x_1)^2(x_1 + x_2 - 1)^2$$"
   ]
  },
  {
   "cell_type": "markdown",
   "id": "cardiovascular-bouquet",
   "metadata": {},
   "source": [
    "First equating $\\big|p(y_0)\\big| = \\big|p(1/2)\\big|$ gets us\n",
    "$$(1/2 - x_1)^2 (1/2 - x_2)^2 = \\frac{1}{4}(x_2 - x_1)^2(1 - x_1 - x_2)^2$$\n",
    "$$(1 - 2x_1)(1 - 2x_2) = 2(x_2 - x_1)(1 - x_1 - x_2)$$\n",
    "$$x_2^2 - 2(1 - x_1)x_2 + 1/2 - x_1^2 = 0$$\n",
    "$$x_2 = (1 - x_1) \\pm \\sqrt{(1 - x_1)^2 - (1/2 - x_1^2)} = (1 - x_1) \\pm \\sqrt{2}(1/2 - x_1)$$"
   ]
  },
  {
   "cell_type": "markdown",
   "id": "agricultural-situation",
   "metadata": {},
   "source": [
    "Now equating $\\big|p(1/2)\\big| = \\big|p(0)\\big|$ gets us\n",
    "$$(1/2 - x_1)^4 (1 \\pm \\sqrt{2})^2 = x_1(1-x_1)\\left[x_1(1-x_1) \\mp \\sqrt{2}(1 - 2x_1)(1/2 - x_1) - 2(1/2 - x_1)^2\\right]$$\n",
    "Let us define\n",
    "$$y = (1/2 - x_1)^2 (1 \\pm \\sqrt{2}), \\quad z = x_1(1 - x_1) \\geq 0$$\n",
    "Note that the sign of $y$ is the sign of $\\pm$ since $\\sqrt{2} > 1$. Now our equation becomes\n",
    "$$y^2 = z(z - 2y)$$\n",
    "$$y^2 + 2zy + z^2 = 0$$\n",
    "$$y = -z \\pm' \\sqrt{2z^2} = -z(1 \\mp' \\sqrt{2})$$\n",
    "Since $z \\geq 0$, the sign of $y$ is the sign of $\\pm'$ (i.e. oppositely signed to $\\mp'$). It follows that $\\pm = \\pm'$, so $y = -z(1 \\mp \\sqrt{2})$. Thus\n",
    "$$(1/2-x_1)^2 (1 \\pm \\sqrt{2}) = -x_1(1-x_1)(1 \\mp \\sqrt{2})$$\n",
    "$$(1/2-x_1)^2 = -x_1(1-x_1) \\frac{1 \\mp \\sqrt{2}}{1 \\pm \\sqrt{2}}$$\n",
    "$$(1/2-x_1)^2 = x_1(1-x_1)\\frac{\\sqrt{2} \\mp 1}{\\sqrt{2} \\pm 1} = x_1(1-x_1)(3 \\mp 2\\sqrt{2})$$\n",
    "$$(4 \\mp 2\\sqrt{2})x_1^2 - (4 \\mp 2\\sqrt{2})x_1 + 1/4 = 0$$\n",
    "We now re-introduce a second set of signs $\\pm'$:\n",
    "$$x_1 = \\frac{(4 \\mp 2\\sqrt{2}) \\pm' \\sqrt{20 \\mp 14\\sqrt{2}}}{2(4 \\mp 2\\sqrt{2})}$$\n",
    "To constrain $0 \\leq x_1 \\leq 1/2$, we are left with only two permutations of $(\\pm, \\pm')$:\n",
    "$$x_1 = \\frac{(4 - 2\\sqrt{2}) - \\sqrt{20 - 14\\sqrt{2}}}{2(4 - 2\\sqrt{2})}, \\; \\frac{(4 + 2\\sqrt{2}) - \\sqrt{20 + 14\\sqrt{2}}}{2(4 + 2\\sqrt{2})}$$\n",
    "The corresponding values of $x_2$ satisfying $x_1 \\leq x_2 \\leq 1/2$ are\n",
    "$$x_2 = (1 - x_1) - \\sqrt{2}(1/2 - x_1)$$\n",
    "for the two values of $x_1$. Trying these two values yields\n",
    "$$x_1 = \\frac{(4 + 2\\sqrt{2}) - \\sqrt{20 + 14\\sqrt{2}}}{2(4 + 2\\sqrt{2})}$$\n",
    "as resulting in a smaller $\\big|p(x)\\big|$. Rearranging $x_1$ slightly for aesthetic purposes, and plugging in $x_2 = (1 - x_1) - \\sqrt{2}(1/2 - x_1)$, $x_3 = 1 - x_2$, and $x_4 = 1 - x_3$, gives us the interpolating points of\n",
    "$$\\boxed{x_1 = \\frac{(4 + 2\\sqrt{2}) - \\sqrt{20 + 14\\sqrt{2}}}{2(4 + 2\\sqrt{2})}, \\quad x_2 = \\frac{(4 + 2\\sqrt{2}) - (\\sqrt{2} - 1)\\sqrt{20 + 14\\sqrt{2}}}{2(4 + 2\\sqrt{2})}}$$\n",
    "$$\\boxed{\\quad x_3 = \\frac{(4 + 2\\sqrt{2}) + (\\sqrt{2} - 1)\\sqrt{20 + 14\\sqrt{2}}}{2(4 + 2\\sqrt{2})}, \\quad x_4 = \\frac{(4 + 2\\sqrt{2}) + \\sqrt{20 + 14\\sqrt{2}}}{2(4 + 2\\sqrt{2})}}$$\n",
    "Numerically, these are\n",
    "$$\\boxed{x_1 = 0.03806, \\quad x_2 = 0.30866, \\quad x_3 = 0.69134, \\quad x_4 = 0.96194}$$"
   ]
  },
  {
   "cell_type": "markdown",
   "id": "municipal-position",
   "metadata": {},
   "source": [
    "The extremal value $p(0)$ is\n",
    "$$p(0) = x_1x_2x_3x_4 = \\frac{\\left((24 + 16\\sqrt{2}) - (20 + 14\\sqrt{2})\\right)\\left((24 + 16\\sqrt{2}) - (3 - 2\\sqrt{2})(20 + 14\\sqrt{2})\\right)}{16(4 + 2\\sqrt{2})^4}$$\n",
    "$$p(0) = \\frac{\\left(4 + 2\\sqrt{2}\\right)\\left((24 + 16\\sqrt{2}) - (4  + 2\\sqrt{2})\\right)}{16(4 + 2\\sqrt{2})^4} = \\frac{20 + 14\\sqrt{2}}{16(4 + 2\\sqrt{2})^3} = \\frac{\\left(20+14\\sqrt{2}\\right)}{16\\left(160+112\\sqrt{2}\\right)}$$\n",
    "$$p(0) = \\frac{1}{128}$$\n",
    "And so\n",
    "$$\\max\\big|e(x)\\big| \\leq \\frac{1}{24 \\cdot 128} K_4 h^4 = \\frac{1}{3072}K_4h^4$$\n",
    "$$\\boxed{C = \\frac{1}{3072} \\approx 3.255 \\times 10^{-4}}$$"
   ]
  },
  {
   "cell_type": "markdown",
   "id": "female-singer",
   "metadata": {},
   "source": [
    "We now verify this error constant numerically with the function $f(x) = x^4/24$. Here we have $K_4 = 1$; since the fourth derivative is constant, the error should approach the error bound when $h$ is small enough."
   ]
  },
  {
   "cell_type": "code",
   "execution_count": 7,
   "id": "emotional-electron",
   "metadata": {},
   "outputs": [],
   "source": [
    "## Interpolation function\n",
    "## f  = original function\n",
    "## x  = points to evaluate interpolating polynomial at\n",
    "## xi = interpolating points\n",
    "def interp(f, x, xi):\n",
    "    \n",
    "    acc = np.zeros(x.shape)\n",
    "    \n",
    "    for i in range(len(xi)):\n",
    "        \n",
    "        # Get indices of interpolating points except for xi\n",
    "        idx = list(range(len(xi)))\n",
    "        idx.remove(i)\n",
    "        \n",
    "        prod = f(xi[i])\n",
    "        \n",
    "        for j in idx:\n",
    "            prod *= (x - xi[j]) / (xi[i] - xi[j])\n",
    "        \n",
    "        acc += prod\n",
    "        \n",
    "    return acc"
   ]
  },
  {
   "cell_type": "code",
   "execution_count": 8,
   "id": "valuable-drill",
   "metadata": {},
   "outputs": [],
   "source": [
    "## Parameters ##\n",
    "\n",
    "h = 1e-3\n",
    "xi = np.array([0.03806, 0.30866, 0.69134, 0.96194]) * h\n",
    "N = 1000 # number of points to sample at"
   ]
  },
  {
   "cell_type": "code",
   "execution_count": 9,
   "id": "postal-sewing",
   "metadata": {},
   "outputs": [
    {
     "name": "stdout",
     "output_type": "stream",
     "text": [
      "Maximum interpolation error / h^4: 3.255e-04\n"
     ]
    }
   ],
   "source": [
    "## Calculations ##\n",
    "\n",
    "f = lambda x: np.power(x, 4) / 24\n",
    "x = np.linspace(0, h, N)\n",
    "\n",
    "print(f'Maximum interpolation error / h^4: {np.max(abs(f(x) - interp(f, x, xi))) / h ** 4:.3e}')"
   ]
  },
  {
   "cell_type": "markdown",
   "id": "objective-ukraine",
   "metadata": {},
   "source": [
    "## Q4"
   ]
  },
  {
   "cell_type": "markdown",
   "id": "posted-maintenance",
   "metadata": {},
   "source": [
    "Since $x_1 = 0$ and $x_4 = 1$, we only have one free parameter for the interpolation points if we use symmetry. Then at least two of $|p(0)|, |p(y_0)|, |p(1/2)|$ are equal. To see why, suppose all three are distinct. Then we may vary $x_2$ (with $x_3 = 1 - x_2$) to decrease the largest of the three quantities until it becomes equal to the second largest of the three--at that point, decreasing it further would increase the other quantity to become the largest. But since $p(0) = x_1x_2x_3x_4 = 0$, this just becomes $|p(y_0)| = |p(1/2)|$ i.e.\n",
    "$$\\frac{1}{4} x_2^2 (1 - x_2)^2 = \\frac{1}{4} (1/2 - x_2)^2$$\n",
    "$$x_2(1 - x_2) = 1/2 - x_2$$\n",
    "$$x_2^2 - 2x_2 + 1/2 = 0$$\n",
    "$$x_2 = 1 \\pm \\sqrt{1/2}$$\n",
    "Since $0 < x_2 < 1/2$, we take $x_2 = 1 - \\frac{1}{\\sqrt{2}}$. Thus\n",
    "$$\\boxed{x_1 = 0, \\quad x_2 = 1 - \\frac{1}{\\sqrt{2}}, \\quad x_3 = \\frac{1}{\\sqrt{2}}, \\quad x_4 = 1}$$\n",
    "Or numerically,\n",
    "$$\\boxed{x_1 = 0, \\quad x_2 = 0.29289, \\quad x_3 = 0.70711, \\quad x_4 = 1}$$\n",
    "Then\n",
    "$$\\max \\big|p(x)\\big| = \\big|p(1/2)\\big| = \\frac{1}{4} (1/2 - x_2)^2 = \\frac{3 - 2\\sqrt{2}}{16}$$\n",
    "So $C = \\frac{1}{24}\\max \\big|p(x)\\big|$ i.e.\n",
    "$$\\boxed{C = \\frac{3 - 2\\sqrt{2}}{384} \\approx 4.468 \\times 10^{-4}}$$"
   ]
  },
  {
   "cell_type": "markdown",
   "id": "specified-stability",
   "metadata": {},
   "source": [
    "We again verify this error constant numerically with the function $f(x) = x^4/24$."
   ]
  },
  {
   "cell_type": "code",
   "execution_count": 10,
   "id": "distinguished-romania",
   "metadata": {},
   "outputs": [],
   "source": [
    "## Parameters ##\n",
    "\n",
    "h = 1e-3\n",
    "xi = np.array([0, 0.29289, 0.70711, 1]) * h\n",
    "N = 1000 # number of points to sample at"
   ]
  },
  {
   "cell_type": "code",
   "execution_count": 11,
   "id": "proud-amazon",
   "metadata": {},
   "outputs": [
    {
     "name": "stdout",
     "output_type": "stream",
     "text": [
      "Maximum interpolation error / h^4: 4.468e-04\n"
     ]
    }
   ],
   "source": [
    "## Calculations ##\n",
    "\n",
    "f = lambda x: np.power(x, 4) / 24\n",
    "x = np.linspace(0, h, N)\n",
    "\n",
    "print(f'Maximum interpolation error / h^4: {np.max(abs(f(x) - interp(f, x, xi))) / h ** 4:.3e}')"
   ]
  },
  {
   "cell_type": "markdown",
   "id": "worse-finance",
   "metadata": {},
   "source": [
    "## Q5"
   ]
  },
  {
   "cell_type": "markdown",
   "id": "seventh-magnitude",
   "metadata": {},
   "source": [
    "To make a fair comparison, we use the same number of points $M$ for each method. "
   ]
  },
  {
   "cell_type": "markdown",
   "id": "infinite-worse",
   "metadata": {},
   "source": [
    "**Q3 Method:** \\\n",
    "We require $4N$ data points, so $N = M/4$. Then $h = 4/M$, so\n",
    "$$\\max\\big|e(x)\\big| \\leq \\left(3.255 \\times 10^{-4}\\right)\\frac{4^4}{M^4} = 0.083328 M^{-4}$$"
   ]
  },
  {
   "cell_type": "markdown",
   "id": "driven-version",
   "metadata": {},
   "source": [
    "**Q4 Method:** \\\n",
    "We require $2N$ interior data points and $N + 1$ boundary data points, for a total of $3N + 1$ points. so $N = (M - 1)/3 \\approx M/3$ ($M$ is assumed to be large). Then $h = 3/M$, so\n",
    "$$\\max\\big|e(x)\\big| \\leq \\left(4.468 \\times 10^{-4}\\right)\\frac{3^4}{M^4} = 0.036191 M^{-4}$$"
   ]
  },
  {
   "cell_type": "markdown",
   "id": "national-observer",
   "metadata": {},
   "source": [
    "**Conclusion:** *the Q4 method is more data efficient*, seeing that $0.036191 M^{-4} < 0.083328 M^{-4}$."
   ]
  },
  {
   "cell_type": "markdown",
   "id": "invisible-insulin",
   "metadata": {},
   "source": [
    "## Q6"
   ]
  },
  {
   "cell_type": "markdown",
   "id": "introductory-reflection",
   "metadata": {},
   "source": [
    "**B(x) maximum error:** \\\n",
    "We numerically determine the maximum error to be\n",
    "$$\\boxed{\\max_{x > 0} \\big|\\arctan(x) - B(x)\\big| = 0.07111}$$"
   ]
  },
  {
   "cell_type": "markdown",
   "id": "governing-ladder",
   "metadata": {},
   "source": [
    "**P(x):** \\\n",
    "If we wish to constrain $P(0) = \\arctan(0) = 0$ and $P'(0) = \\arctan'(0) = 1$, we must set $C_0 = 0$ and $C_1 = 1$. Meanwhile, if we wish to retain the $x \\to \\infty$ asymptotic value, we see that\n",
    "$$\\lim_{x \\to \\infty} P(x) = \\frac{C_2}{A_2} = \\lim_{x \\to \\infty} \\arctan(x) = \\frac{\\pi}{2}$$\n",
    "So $C_2 = \\frac{\\pi}{2} A_2$. Finally, we can determine $A_2$ and $A_1$ by trial and error. Through this process, we get\n",
    "$$\\boxed{C_0 = 0, \\quad C_1 = 1, \\quad C_2 = \\frac{\\pi}{4}, \\quad A_1 = \\frac{\\pi}{4}, \\quad A_2 = \\frac{1}{2}}$$\n",
    "$$\\boxed{P(x) = \\frac{x + \\frac{\\pi}{4}x^2}{1 + \\frac{\\pi}{4}x + \\frac{1}{2}x^2}}$$\n",
    "Also, we ensure that $P(x)$ has no real poles for $x > 0$. This is true because the discriminant of the denominator is negative:\n",
    "$$\\Delta = \\frac{\\pi^2}{16} - 1 \\approx -0.383 < 0$$\n",
    "Finally, the maximum computed error for the obtained $P(x)$ is\n",
    "$$\\boxed{\\max_{x > 0} \\big|\\arctan(x) - P(x)\\big| = 0.04023}$$"
   ]
  },
  {
   "cell_type": "code",
   "execution_count": 12,
   "id": "ruled-final",
   "metadata": {},
   "outputs": [],
   "source": [
    "xlim = 200\n",
    "npts = 100000"
   ]
  },
  {
   "cell_type": "code",
   "execution_count": 13,
   "id": "floating-spray",
   "metadata": {},
   "outputs": [],
   "source": [
    "def B(x):\n",
    "    return np.pi/2 * x/(1+x)"
   ]
  },
  {
   "cell_type": "code",
   "execution_count": 14,
   "id": "aggressive-transaction",
   "metadata": {},
   "outputs": [],
   "source": [
    "def P(x):\n",
    "    \n",
    "    c0 = 0\n",
    "    c1 = 1\n",
    "    a2 = 1/2\n",
    "    c2 = np.pi/4\n",
    "    a1 = np.pi/4\n",
    "    \n",
    "    return (c0 + c1 * x + c2 * x * x) / (1 + a1 * x + a2 * x * x)"
   ]
  },
  {
   "cell_type": "code",
   "execution_count": 15,
   "id": "cardiac-cholesterol",
   "metadata": {},
   "outputs": [
    {
     "name": "stdout",
     "output_type": "stream",
     "text": [
      "B(x) max error: 0.07111463690417996\n",
      "P(x) max error: 0.040234630458985565\n"
     ]
    },
    {
     "data": {
      "image/png": "[encoded data removed]",
      "text/plain": [
       "<Figure size 864x576 with 1 Axes>"
      ]
     },
     "metadata": {
      "needs_background": "light"
     },
     "output_type": "display_data"
    }
   ],
   "source": [
    "fig, ax = plt.subplots(figsize=(12,8))\n",
    "\n",
    "x = np.linspace(0, xlim, npts)\n",
    "e1 = np.arctan(x) - B(x)\n",
    "e2 = np.arctan(x) - P(x)\n",
    "\n",
    "ax.plot(x, e1, label='$B(x)$')\n",
    "print(f'B(x) max error: {np.max(np.abs(e1))}')\n",
    "ax.plot(x, e2, label='$P(x)$')\n",
    "print(f'P(x) max error: {np.max(np.abs(e2))}')\n",
    "\n",
    "ax.set_xlabel('x')\n",
    "ax.set_ylabel('Error')\n",
    "ax.legend()\n",
    "plt.show()"
   ]
  },
  {
   "cell_type": "markdown",
   "id": "international-origin",
   "metadata": {},
   "source": [
    "**Justification of `xlim`:** \\\n",
    "We know that $\\arctan(x)$ is an increasing function since $\\arctan'(x) = 1/(1 + x^2) > 0$. Furthermore, $B(x)$ is also increasing, because $B(x) = \\frac{\\pi}{2} \\left(1 - \\frac{1}{1 + x}\\right)$, and $\\frac{1}{1 + x}$ decreases with increasing $x$ for $x > 0$.\\\n",
    "Finally, we show that $P(x)$ is increasing. That is, for $0 < x_1 < x_2$ we have $P(x_1) < P(x_2)$:\n",
    "$$x_1 < x_2 \\; \\therefore \\; x_1 + \\frac{\\pi}{4}x_1^2 < x_2 + \\frac{\\pi}{4}x_2^2 \\; \\therefore \\; x_1 + \\frac{\\pi}{4}x_1^2 + \\frac{\\pi}{4}x_1x_2 + \\frac{\\pi}{8}x_1^2x_2^2 < x_2 + \\frac{\\pi}{4}x_2^2 + \\frac{\\pi}{4}x_1x_2 + \\frac{\\pi}{8}x_1^2x_2^2$$\n",
    "Since $\\pi^2/16 - 1/2 > 0$:\n",
    "$$\\left(\\frac{\\pi^2}{16} - \\frac{1}{2}\\right)x_1 < \\left(\\frac{\\pi^2}{16} - \\frac{1}{2}\\right)x_2 \\; \\therefore \\; \\left(\\frac{\\pi^2}{16} - \\frac{1}{2}\\right)x_1^2x_2 < \\left(\\frac{\\pi^2}{16} - \\frac{1}{2}\\right)x_1x_2^2$$\n",
    "Thus\n",
    "$$x_1 + \\frac{\\pi}{4}x_1^2 + \\frac{\\pi}{4}x_1x_2 + \\frac{\\pi}{8}x_1^2x_2^2 + \\left(\\frac{\\pi^2}{16} - \\frac{1}{2}\\right)x_1^2x_2 < x_2 + \\frac{\\pi}{4}x_2^2 + \\frac{\\pi}{4}x_1x_2 + \\frac{\\pi}{8}x_1^2x_2^2 + \\left(\\frac{\\pi^2}{16} - \\frac{1}{2}\\right)x_1x_2^2$$\n",
    "$$x_1 + \\frac{\\pi}{4}x_1^2 + \\frac{\\pi}{4}x_1x_2 + \\frac{\\pi}{8}x_1^2x_2^2 + \\frac{\\pi^2}{16}x_1^2x_2 + \\frac{1}{2}x_1x_2^2 < x_2 + \\frac{\\pi}{4}x_2^2 + \\frac{\\pi}{4}x_1x_2 + \\frac{\\pi}{8}x_1^2x_2^2 + \\frac{\\pi^2}{16}x_1x_2^2 + \\frac{1}{2}x_1^2x_2$$\n",
    "We factor both sides of the inequality:\n",
    "$$\\left(x_1 + \\frac{\\pi}{4}x_1^2\\right)\\left(1 + \\frac{\\pi}{4}x_2 + \\frac{1}{2}x_2^2\\right) < \\left(x_2 + \\frac{\\pi}{4}x_2^2\\right)\\left(1 + \\frac{\\pi}{4}x_1 + \\frac{1}{2}x_1^2\\right)$$\n",
    "Note that the factors $\\left(x_i + \\frac{\\pi}{4}x_i^2\\right)$ and $\\left(1 + \\frac{\\pi}{4}x_i + \\frac{1}{2}x_i^2\\right)$ are positive for $x_i > 0$. Thus\n",
    "$$P(x_1) = \\frac{x_1 + \\frac{\\pi}{4}x_1^2}{1 + \\frac{\\pi}{4}x_1 + \\frac{1}{2}x_1^2} < P(x_2) = \\frac{x_2 + \\frac{\\pi}{4}x_2^2}{1 + \\frac{\\pi}{4}x_2 + \\frac{1}{2}x_2^2}$$"
   ]
  },
  {
   "cell_type": "markdown",
   "id": "written-shift",
   "metadata": {},
   "source": [
    "Also, $\\arctan(x)$, $B(x)$, and $P(x)$ are bounded above by $\\pi/2$. This is because they all are increasing and approach $\\pi/2$ as $x \\to \\infty$."
   ]
  },
  {
   "cell_type": "markdown",
   "id": "inner-contamination",
   "metadata": {},
   "source": [
    "Now in the numerical calculations, the error was only computed for $x \\in [0, x_{lim}]$. Then let $e_0$ be the maximum error computed for $x \\in [0, x_{lim}]$, $e_1$ be the maximum error for $x \\in (x_{lim}, \\infty)$, and $e$ be the true maximum error i.e. for $x \\in [0, \\infty)$. Hence $e = \\max(e_0, e_1)$. Then the cutoff $x_{lim}$ is justified if $e_1 < e_0$ so that $e = e_0$ i.e. the computed maximum error is indeed the maximum error for all $x > 0$."
   ]
  },
  {
   "cell_type": "markdown",
   "id": "clean-purpose",
   "metadata": {},
   "source": [
    "Let $f(x)$ be any increasing function bounded above by $\\pi/2$ (namely, $f(x) = \\arctan(x), B(x), P(x)$). If $f(x_{lim}) > \\pi/2 - e_0$, then $\\pi/2 - e_0 < f(x) < \\pi/2$ for all $x \\in (x_{lim}, \\infty)$. Letting $f(x)$ be $B(x)$ and $\\arctan(x)$ and $e_0$ be the computed maximum error for $B(x)$ tells us that\n",
    "$$\\pi/2 - e_0 < \\arctan(x), B(x), \\pi/2 \\; \\therefore \\; \\big|\\arctan(x) - B(x)\\big| < e_0$$\n",
    "for $x > x_{lim}$. Similarly, if we use $P(x)$ in place of $B(x)$, we get\n",
    "$$\\big|\\arctan(x) - P(x)\\big| < e_0$$\n",
    "for $x > x_{lim}$ with $e_0$ being the computed maximum error for $P(x)$. We verify below that this is the case--thus the computed $e_0$ values for $B(x)$ and $P(x)$ are indeed maximal errors for all $x > 0$."
   ]
  },
  {
   "cell_type": "code",
   "execution_count": 16,
   "id": "crude-thesis",
   "metadata": {},
   "outputs": [
    {
     "name": "stdout",
     "output_type": "stream",
     "text": [
      "pi/2 - arctan(200) = 0.0049999583339581655\n",
      "pi/2 - B(200) = 0.007814907098482093\n",
      "pi/2 - P(200) = 0.0023966026146511332\n"
     ]
    }
   ],
   "source": [
    "print(f'pi/2 - arctan({xlim}) = {np.pi/2 - np.arctan(xlim)}')\n",
    "print(f'pi/2 - B({xlim}) = {np.pi/2 - B(xlim)}')\n",
    "print(f'pi/2 - P({xlim}) = {np.pi/2 - P(xlim)}')"
   ]
  },
  {
   "cell_type": "markdown",
   "id": "certain-wagon",
   "metadata": {},
   "source": [
    "## Q7"
   ]
  },
  {
   "cell_type": "markdown",
   "id": "ideal-surge",
   "metadata": {},
   "source": [
    "We can split the integral as\n",
    "$$\\int_0^1 \\frac{\\exp(x^2)\\cos(x)}{x^{2/3}} dx = \\int_0^\\varepsilon \\frac{\\exp(x^2)\\cos(x)}{x^{2/3}} dx + \\int_\\varepsilon^1 \\frac{\\exp(x^2)\\cos(x)}{x^{2/3}} dx$$\n",
    "for $0 < \\varepsilon < 1$. To avoid the singularity at $x = 0$, we approximate the first term as\n",
    "$$\\int_0^\\varepsilon \\frac{\\exp(x^2)\\cos(x)}{x^{2/3}} dx \\approx \\int_0^\\varepsilon \\frac{1}{x^{2/3}} dx = 3\\varepsilon^{1/3}$$\n",
    "Now define $e(x) = \\exp(x^2)\\cos(x) - 1$. Taking power series expansions of $\\exp(x^2)$ and $\\cos(x)$ gives us\n",
    "$$e(x) = \\left(1 + x^2 + P(x^4)\\right)\\left(1 - \\frac{x^2}{2} + P(x^4)\\right) - 1 = \\frac{x^2}{2} + P(x^4)$$\n",
    "where $P(x^n)$ stands for a sum of integer powers of $x$ of degree $n$ or higher. When $\\varepsilon$ is small, $P(x^4)$ becomes negligible compared to $\\frac{x^2}{2}$ for $0 < x < \\varepsilon$, so we can take only the leading order term. Thus\n",
    "$$\\bigg|\\int_0^\\varepsilon \\frac{\\exp(x^2)\\cos(x)}{x^{2/3}} dx - \\int_0^\\varepsilon \\frac{1}{x^{2/3}} dx\\bigg| \\approx \\bigg|\\int_0^\\varepsilon \\frac{x^2/2}{x^{2/3}}\\bigg| = \\frac{3}{14}\\varepsilon^{7/3}$$\n",
    "Since we want the error of the overall integral to be less than $10^{-3}$, we shall constrain the error of this integral to be less than $10^{-4}$. Solving for $\\varepsilon$ in $\\frac{3}{14}\\varepsilon^{7/3} < 10^{-4}$ gives us $\\varepsilon < 0.0373$. We shall simply take\n",
    "$$\\varepsilon = 0.035$$"
   ]
  },
  {
   "cell_type": "markdown",
   "id": "legendary-atlas",
   "metadata": {},
   "source": [
    "Now the derivative of the integrand $f(x) = \\exp(x^2)\\cos(x)x^{-2/3}$ is\n",
    "$$f'(x) = 2x\\exp(x^2)\\cos(x)x^{-2/3} - \\exp(x^2)\\sin(x)x^{-2/3} - \\frac{2}{3}\\exp(x^2)\\cos(x)x^{-5/3}$$\n",
    "$$f'(x) = \\exp(x^2)x^{-5/3}\\left(2x^2\\cos(x) - x\\sin(x) - \\frac{2}{3}\\right)$$\n",
    "On the interval $(\\varepsilon, 1)$ we have $\\big|\\exp(x^2)\\big| \\leq e$, $\\big|x^{-5/3}\\big| \\leq \\varepsilon^{-5/3}$, and $\\big|2x^2\\cos(x) - x\\sin(x) - \\frac{2}{3}\\big| < 2 + 1 + \\frac{2}{3} = \\frac{11}{3}$. And so\n",
    "$$\\big|f'(x)\\big| < \\frac{11e}{3}\\varepsilon^{-5/3} = 2661.5 < 2680$$\n",
    "Finally, if we use the right Riemann sum on the slice $[x_0, x_0 + h]$, we have an error bound of\n",
    "$$\\big|E_h\\big| = \\bigg|\\int_{x_0}^{x_0 + h}f(x)dx - f(x_0 + h)\\bigg| = \\bigg|\\int_{x_0}^{x_0 + h}\\left[f(x) - f(x_0 + h)\\right]dx\\bigg| = \\bigg|\\int_{x_0}^{x_0 + h}f'(\\xi(x))(x - x_0 - h)dx\\bigg|$$\n",
    "where $x < \\xi(x) < x_0 + h$. Continuing,\n",
    "$$\\big|E_h\\big| = \\bigg|\\int_{0}^{h}f'(\\xi(x + x_0))(x - h)dx\\bigg| \\leq \\left(\\max_{y \\in (x_0, x_0 + h)} \\big| f'(y) \\big| \\right)\\int_{0}^{h} \\big| x - h \\big|dx$$\n",
    "$$\\big|E_h\\big| \\leq \\left(\\max_{y \\in (0, 1)} \\big| f'(y) \\big| \\right)\\int_{0}^{h} (h-x) dx < 1340h^2$$\n",
    "There will be $\\frac{1 - 0.035}{h} = \\frac{0.965}{h}$ subintervals for the $\\int_\\varepsilon^1 \\frac{\\exp(x^2)\\cos(x)}{x^{2/3}} dx$ integral. The global error is therefore bounded by\n",
    "$$\\big|\\mathcal{E}_h\\big| \\leq 1340h^2\\left(\\frac{0.965}{h}\\right) = 1293.1h < 1300h$$"
   ]
  },
  {
   "cell_type": "markdown",
   "id": "paperback-bosnia",
   "metadata": {},
   "source": [
    "To account for the $10^{-4}$ error from before, as well as to add a safety factor, we shall bound $\\big|\\mathcal{E}_h\\big| < 7 \\times 10^{-4}$. That gives us $h \\leq 5.385 \\times 10^{-7}$. Then the number of subintervals $N$ must be at least $\\frac{0.965}{5.385 \\times 10^{-7}} = 1.792 \\times 10^6$. To give a margin, we select $N = 2 \\times 10^6$."
   ]
  },
  {
   "cell_type": "code",
   "execution_count": 17,
   "id": "spectacular-profession",
   "metadata": {},
   "outputs": [],
   "source": [
    "eps = 0.035\n",
    "N = int(2e6)\n",
    "h = (1 - eps) / N"
   ]
  },
  {
   "cell_type": "code",
   "execution_count": 18,
   "id": "fancy-passion",
   "metadata": {},
   "outputs": [],
   "source": [
    "x = np.linspace(eps, 1, N+1)\n",
    "y = np.exp(x*x) * np.cos(x) / np.power(x, 2/3)"
   ]
  },
  {
   "cell_type": "code",
   "execution_count": 19,
   "id": "southeast-receipt",
   "metadata": {},
   "outputs": [
    {
     "name": "stdout",
     "output_type": "stream",
     "text": [
      "Integral = 3.2136306932738297\n"
     ]
    }
   ],
   "source": [
    "# Right Riemann sum\n",
    "I1 = 3 * np.power(eps, 1/3)\n",
    "I2 = np.sum(y[1:]) * h\n",
    "print(f'Integral = {I1 + I2}')"
   ]
  },
  {
   "cell_type": "markdown",
   "id": "lovely-multimedia",
   "metadata": {},
   "source": [
    "So the integral evaluates to\n",
    "$$\\boxed{\\int_0^1 \\frac{\\exp(x^2)\\cos(x)}{x^{2/3}} dx \\approx 3.214}$$\n",
    "within an error of $10^{-3}$."
   ]
  },
  {
   "cell_type": "markdown",
   "id": "known-worst",
   "metadata": {},
   "source": [
    "Finally, a remark about floating-point precision is in order here. The double-precision float (which NumPy uses by default) has 52 mantissa bits i.e. between 15 and 16 significant figures in base 10. The integral is clearly less than 10, as we can also see from how\n",
    "$$\\bigg|\\int_\\varepsilon^1 \\frac{\\exp(x^2)\\cos(x)}{x^{2/3}}dx\\bigg| \\leq e\\int_\\varepsilon^1 \\frac{dx}{x^{2/3}}\\bigg| = 3e(1 - \\varepsilon^{2/3}) = 7.28 < 10$$\n",
    "This means that our error bound of $5 \\times 10^{-4}$ for each subinterval is roughly 4 orders of magnitude less than the total integral. Since we are adding the integrals of each subinterval together, the floating-point error should be much less than 4 significant figures. And this is indeed the case for 15 to 16 significant digits."
   ]
  },
  {
   "cell_type": "markdown",
   "id": "distinct-monday",
   "metadata": {},
   "source": [
    "## Q8"
   ]
  },
  {
   "cell_type": "markdown",
   "id": "cosmetic-address",
   "metadata": {},
   "source": [
    "### Q8(a)"
   ]
  },
  {
   "cell_type": "markdown",
   "id": "lyric-vampire",
   "metadata": {},
   "source": [
    "Let $h$ be the grid spacing. Then\n",
    "$$F_{i+m} = f(x_i) + f'(x_i)(mh) + f''(x_i)\\frac{(mh)^2}{2} + f^{(3)}(x_i)\\frac{(mh)^3}{6} + f^{(4)}(x_i)\\frac{(mh)^4}{24} + f^{(5)}(x_i)\\frac{(mh)^5}{120} + O(h^6)$$\n",
    "We seek to approximate $f''(x_i) \\approx aF_{i-2} + bF_{i-1} + cF_i + dF_{i+1} + eF_{i+2}$ for some constants $a, b, c, d, e$. We now determine the constants by examining the terms for each power of $h$."
   ]
  },
  {
   "cell_type": "markdown",
   "id": "collective-second",
   "metadata": {},
   "source": [
    "$h^1$:\\\n",
    "This term is $(-2a - b + d + 2e)f'(x_i)h$. Hence\n",
    "$$-2a - b + d + 2e = 0$$"
   ]
  },
  {
   "cell_type": "markdown",
   "id": "latter-visibility",
   "metadata": {},
   "source": [
    "$h^3$:\\\n",
    "This term is $(-8a - b + d + 8e)\\frac{f^{(3)}(x_i)}{6}h^3$. Hence\n",
    "$$-8a - b + d + 8e = 0$$"
   ]
  },
  {
   "cell_type": "markdown",
   "id": "buried-routine",
   "metadata": {},
   "source": [
    "Subtracting the $h^1$ and $h^3$ equations gets us $6a - 6e = 0$, so $a = e$. We also see that $b = d$, so the grid coefficients are symmetric. In fact, this eliminates all odd power terms, including $h^5$:\n",
    "$$-32a - b + d + 32e = 0$$"
   ]
  },
  {
   "cell_type": "markdown",
   "id": "fatty-marks",
   "metadata": {},
   "source": [
    "$h^0$:\\\n",
    "This term is just $(a + b + c + d + e)f(x_i) = (2a + 2b + c)f(x_i)$. Hence\n",
    "$$2a + 2b + c = 0$$"
   ]
  },
  {
   "cell_type": "markdown",
   "id": "express-teach",
   "metadata": {},
   "source": [
    "$h^2$:\\\n",
    "We get $(8a + 2b)\\frac{f''(x_i)}{2}h^2 = f''(x_i)$. Hence\n",
    "$$4a + b = \\frac{1}{h^2}$$"
   ]
  },
  {
   "cell_type": "markdown",
   "id": "ongoing-model",
   "metadata": {},
   "source": [
    "$h^4$:\\\n",
    "We obtain $(32a + 2b)\\frac{f^{(4)}(x_i)}{24}h^4 = 0$. Hence\n",
    "$$16a + b = 0$$"
   ]
  },
  {
   "cell_type": "markdown",
   "id": "another-gossip",
   "metadata": {},
   "source": [
    "Subtracting the $h^4$ and $h^2$ equations gives us $12a = -\\frac{1}{h^2}$, or $a = -\\frac{1}{12h^2}$. That gets us $b = \\frac{4}{3h^2}$. Finally, applying the $h^0$ equation gives $c = -\\frac{5}{2h^2}$. Thus\n",
    "$$\\boxed{f''(x_i) \\approx \\frac{-F_{i-2} + 16F_{i-1} - 30F_i + 16F_{i+1} - F_{i+2}}{12h^2}}$$"
   ]
  },
  {
   "cell_type": "markdown",
   "id": "awful-tongue",
   "metadata": {},
   "source": [
    "This approximation is indeed fourth order accurate. To see why, let $D_2 \\approx f''(x_i)$ be our approximation of $f''(x_i)$. Then the error is\n",
    "$$f''(x_i) - D = f''(x_i) - \\left(f''(x_i) + \\frac{-O(h^6) + 16O(h^6) - 30O(h^6) + 16O(h^6) - O(h^6)}{h^2}\\right) = \\frac{O(h^6)}{h^2} = O(h^4)$$"
   ]
  },
  {
   "cell_type": "markdown",
   "id": "minimal-detection",
   "metadata": {},
   "source": [
    "### Q8(b)"
   ]
  },
  {
   "cell_type": "markdown",
   "id": "legal-nowhere",
   "metadata": {},
   "source": [
    "We proceed as in part (a), except with the $h^2$ term equalling zero and the $h^4$ term becoming $f^{(4)}(x_i)$. The former gives us\n",
    "$$4a + b = 0$$\n",
    "while the latter gives us\n",
    "$$(32a + 2b)\\frac{f^{(4)}(x_i)}{24}h^4 = f^{(4)}(x_i) \\; \\therefore \\; 16a + b = \\frac{12}{h^4}$$\n",
    "Subtracting the two equations therefore gives\n",
    "$$12a = \\frac{12}{h^4} \\; \\therefore \\; a = \\frac{1}{h^4}$$\n",
    "Then $b = -4a = -\\frac{4}{h^4}$ and $c = -2a - 2b = \\frac{6}{h^4}$. Thus\n",
    "$$\\boxed{f^{(4)}(x_i) \\approx \\frac{F_{i-2} - 4F_{i-1} + 6F_i - 4F_{i+1} + F_{i+2}}{h^4}}$$"
   ]
  },
  {
   "cell_type": "markdown",
   "id": "fatal-lemon",
   "metadata": {},
   "source": [
    "Finally, we show that this is second order accurate. Let $D_4$ be our approximation to the fourth derivative. Then the error is\n",
    "$$f^{(4)}(x_i) - D_4 = f^{(4)}(x_i) - \\left(f^{(4)}(x_i) + \\frac{O(h^6) - 4O(h^6) + 6O(h^6) - 4O(h^6) + O(h^6)}{h^4}\\right) = \\frac{O(h^6)}{h^4} = O(h^2)$$"
   ]
  },
  {
   "cell_type": "markdown",
   "id": "vertical-baptist",
   "metadata": {},
   "source": [
    "## Q9"
   ]
  },
  {
   "cell_type": "code",
   "execution_count": 20,
   "id": "adjustable-omaha",
   "metadata": {},
   "outputs": [],
   "source": [
    "## Adaptive trapezoidal rule\n",
    "##   f    = integrand function\n",
    "##   a    = lower bound of integration\n",
    "##   b    = upper bound of integration\n",
    "##   tol  = error tolerance for integral\n",
    "##   N    = initial number of subintervals\n",
    "##   hmin = minimum subinterval length ()\n",
    "##   sf   = numerical safety factor\n",
    "##   Returns numerical integral and the computation grid, or None if unable to compute\n",
    "def adaptivetrapz(f, a, b, tol, N, hmin, sf=0.8):\n",
    "    \n",
    "    if (b - a) / N < hmin:\n",
    "        return None\n",
    "    \n",
    "    # Subinterval = [x0, x0+h]\n",
    "\n",
    "    ## Divide and conquer halving of subinterval\n",
    "    ##   c  = lower bound of interval\n",
    "    ##   d  = lower bound of interval\n",
    "    ##   fc = f(c)\n",
    "    ##   fd = f(d)\n",
    "    ##   Returns numerical integral and the computation grid (sans the first point to avoid duplicates), or None if unable to compute\n",
    "    def dc(c, d, fc, fd):\n",
    "        \n",
    "        h = d - c\n",
    "        \n",
    "        if h < hmin:\n",
    "            return None\n",
    "        \n",
    "        x_half = (c + d)/2\n",
    "        f_half = f(x_half)\n",
    "        \n",
    "        Th = (fc + fd) * h / 2\n",
    "        Th2 = (fc + 2 * f_half + fd) * h / 4\n",
    "        \n",
    "        if (abs(Th2 - Th) / 3) <= (sf * h * tol / (b - a)):\n",
    "            return Th2, [d]\n",
    "        else:\n",
    "            \n",
    "            res1 = dc(c, x_half, fc, f_half)\n",
    "            res2 = dc(x_half, d, f_half, fd)\n",
    "            \n",
    "            if res1 is None or res2 is None:\n",
    "                return None\n",
    "            \n",
    "            return res1[0] + res2[0], res1[1] + res2[1]\n",
    "    \n",
    "    \n",
    "    acc = 0\n",
    "    cgrid = [a]\n",
    "    \n",
    "    h0 = (b - a) / N\n",
    "    f_prev = f(a)\n",
    "    \n",
    "    # Iterate through initial subintervals\n",
    "    for x0 in np.linspace(a, b, N+1)[:-1]:\n",
    "        \n",
    "        f_next = f(x0 + h0)\n",
    "        \n",
    "        res = dc(x0, x0 + h0, f_prev, f_next)\n",
    "        \n",
    "        if res is None:\n",
    "            return None\n",
    "        \n",
    "        acc += res[0]\n",
    "        cgrid += res[1]\n",
    "        \n",
    "        f_prev = f_next\n",
    "    \n",
    "    return acc, cgrid"
   ]
  },
  {
   "cell_type": "markdown",
   "id": "gross-detail",
   "metadata": {},
   "source": [
    "The above implementation proceeds as follows:\n",
    "1) An initial grid of subintervals is created. The integrals of all these initial subintervals shall be added together to form the total integral (this is done in the `for` loop).\n",
    "2) Within each initial subinterval, we recursively add the trapezoidal rule for each half subinterval to determine the total integral for that subinterval (this is done with the nested function `dc`).\n",
    "    1. This recursion terminates when $\\big|T_{h/2} - T_h\\big|/3 \\leq \\theta\\delta h / (b - a)$.\n",
    "    \n",
    "The function is set to terminate when we arrive at a subinterval less than the minimum tolerable size `hmin`. Also, function evaluations between adjacent subintervals are reused (using `f_prev` and `f_half` to store these values) to minimize evaluations of `f`.\\\n",
    "Also, we compute $T_h$ and $T_{h/2}$ on the interval $[c, d]$ (so $d - c = h$) as\n",
    "$$T_h = \\left(\\frac{f(c) + f(d)}{2}\\right)h$$\n",
    "$$T_{h/2} = \\left(\\frac{f(c) + f\\left(\\frac{c+d}{2}\\right)}{2}\\right)\\left(\\frac{h}{2}\\right) + \\left(\\frac{f\\left(\\frac{c+d}{2}\\right) + f(d)}{2}\\right)\\left(\\frac{h}{2}\\right) = \\left(\\frac{f(c) + 2f\\left(\\frac{c+d}{2}\\right) + f(d)}{4}\\right)h$$\n",
    "We now use `adaptivetrapz` to compute\n",
    "$$\\int_0^7 \\sin(x^2) dx$$"
   ]
  },
  {
   "cell_type": "code",
   "execution_count": 21,
   "id": "defensive-republic",
   "metadata": {},
   "outputs": [],
   "source": [
    "## Params ##\n",
    "f    = lambda x: np.sin(x*x)\n",
    "a    = 0\n",
    "b    = 7\n",
    "tol  = 1e-4\n",
    "N    = 10\n",
    "hmin = 1e-9\n",
    "sf   = 0.8"
   ]
  },
  {
   "cell_type": "code",
   "execution_count": 22,
   "id": "chinese-vienna",
   "metadata": {},
   "outputs": [
    {
     "name": "stdout",
     "output_type": "stream",
     "text": [
      "Computed integral: 0.6058889596548032\n"
     ]
    }
   ],
   "source": [
    "## Evaluation ##\n",
    "igral, cgrid = adaptivetrapz(f, a, b, tol, N, hmin, sf)\n",
    "print(f'Computed integral: {igral}')"
   ]
  },
  {
   "cell_type": "markdown",
   "id": "egyptian-capture",
   "metadata": {},
   "source": [
    "Here we evaluated the integral to be $0.60589$. To five significant figures, this agrees with the WolframAlpha result. Hence we can be confident that the answer is indeed within $10^{-4}$ of the actual value.\\\n",
    "We now plot the adaptive computational grid points as a probability density function, since there are too many raw grid points that can be discerend from a direct plot. As we expect, the density of grid points is large where $\\big|f''(x)\\big|$ is large."
   ]
  },
  {
   "cell_type": "code",
   "execution_count": 23,
   "id": "detected-bradford",
   "metadata": {},
   "outputs": [
    {
     "data": {
      "image/png": "[encoded data removed]",
      "text/plain": [
       "<Figure size 864x576 with 1 Axes>"
      ]
     },
     "metadata": {
      "needs_background": "light"
     },
     "output_type": "display_data"
    }
   ],
   "source": [
    "## Plotting ##\n",
    "\n",
    "fig, ax = plt.subplots(figsize=(12,8))\n",
    "\n",
    "npts = 1000\n",
    "dx = (b - a) / npts\n",
    "x = np.linspace(a, b, npts)\n",
    "y = f(x)\n",
    "\n",
    "hist_pts = 400\n",
    "cgrid_hist = np.histogram(cgrid, bins=hist_pts, range=(a,b), density=True)\n",
    "\n",
    "ax.plot(x, y, label='$y = f(x)$', c='b')\n",
    "\n",
    "d2_coeff = 0.05\n",
    "ax.plot(x[1:-1], d2_coeff * np.diff(np.diff(y)) / (dx * dx), label=f\"$y = {d2_coeff} f''(x)$\", c='r', ls='--')\n",
    "\n",
    "cgd_coeff = 10\n",
    "ax.plot((cgrid_hist[1][1:] + cgrid_hist[1][:-1]) / 2, cgd_coeff * cgrid_hist[0], label=f'Computational Grid Density (x{cgd_coeff})', c='k', ls='-.')\n",
    "\n",
    "ax.set_xlabel('$x$')\n",
    "ax.set_ylabel('$y$')\n",
    "ax.set_title(f'$f(x) = \\\\sin(x^2)$ | $\\\\delta$ = {tol:.1e}')\n",
    "ax.legend()\n",
    "\n",
    "plt.show()"
   ]
  },
  {
   "cell_type": "markdown",
   "id": "protected-brick",
   "metadata": {},
   "source": [
    "For visual appeal we will, however, plot the computation grid points for a smaller and more relaxed version of the integral; we set the boundaries to be $[0, 3]$ and the tolerance to be $2 \\times 10^{-3}$. In this case, the grid points are visible to the naked eye (and typical 1080p monitor)."
   ]
  },
  {
   "cell_type": "code",
   "execution_count": 24,
   "id": "secret-integrity",
   "metadata": {},
   "outputs": [],
   "source": [
    "## Computations ##\n",
    "\n",
    "f    = lambda x: np.sin(x*x)\n",
    "a    = 0\n",
    "b    = 3\n",
    "tol  = 2e-3\n",
    "N    = 10\n",
    "hmin = 1e-9\n",
    "sf   = 0.8\n",
    "\n",
    "igral, cgrid = adaptivetrapz(f, a, b, tol, N, hmin, sf)"
   ]
  },
  {
   "cell_type": "code",
   "execution_count": 25,
   "id": "younger-wyoming",
   "metadata": {},
   "outputs": [
    {
     "data": {
      "image/png": "[encoded data removed]",
      "text/plain": [
       "<Figure size 864x576 with 1 Axes>"
      ]
     },
     "metadata": {
      "needs_background": "light"
     },
     "output_type": "display_data"
    }
   ],
   "source": [
    "## Plotting ##\n",
    "\n",
    "fig, ax = plt.subplots(figsize=(12,8))\n",
    "\n",
    "npts = 200\n",
    "dx = (b - a) / npts\n",
    "x = np.linspace(a, b, npts)\n",
    "y = f(x)\n",
    "\n",
    "ax.plot(x, y, label='$y = f(x)$', c='b')\n",
    "\n",
    "d2_coeff = 0.05\n",
    "ax.plot(x[1:-1], d2_coeff * np.diff(np.diff(y)) / (dx * dx), label=f\"$y = {d2_coeff} f''(x)$\", c='r', ls='--')\n",
    "\n",
    "ax.scatter(cgrid, np.zeros(len(cgrid)), label='Computation Grid Points', c='k', s=2)\n",
    "\n",
    "ax.set_xlabel('$x$')\n",
    "ax.set_ylabel('$y$')\n",
    "ax.set_title(f'$f(x) = \\\\sin(x^2)$ | $\\\\delta$ = {tol:.1e}')\n",
    "ax.legend()\n",
    "\n",
    "plt.show()"
   ]
  },
  {
   "cell_type": "markdown",
   "id": "large-output",
   "metadata": {},
   "source": [
    "We again see that grid points accumulate where the second derivative is large in absolute value."
   ]
  },
  {
   "cell_type": "markdown",
   "id": "whole-alert",
   "metadata": {},
   "source": [
    "Now, beyond testing\n",
    "$$\\int_0^7 \\sin(x^2) dx$$\n",
    "we shall also test the adaptive method on a few elementary integrals with varying error tolerances."
   ]
  },
  {
   "cell_type": "code",
   "execution_count": 26,
   "id": "duplicate-links",
   "metadata": {},
   "outputs": [],
   "source": [
    "## f(x) = -exp(x)\n",
    "## F(x) = -exp(x)\n",
    "f    = lambda x: -np.exp(x)\n",
    "F    = lambda x: -np.exp(x) # antiderivative\n",
    "a    = 0\n",
    "b    = 1\n",
    "N    = 2\n",
    "hmin = 1e-9\n",
    "sf   = 0.8\n",
    "\n",
    "expected = F(b) - F(a)"
   ]
  },
  {
   "cell_type": "code",
   "execution_count": 27,
   "id": "afraid-violence",
   "metadata": {},
   "outputs": [
    {
     "name": "stdout",
     "output_type": "stream",
     "text": [
      "tol = 1.00e-02 | error = 4.768e-03\n"
     ]
    }
   ],
   "source": [
    "tol = 1e-2\n",
    "igral, _ = adaptivetrapz(f, a, b, tol, N, hmin, sf)\n",
    "print(f'tol = {tol:.2e} | error = {expected - igral:.3e}')"
   ]
  },
  {
   "cell_type": "code",
   "execution_count": 28,
   "id": "generic-greenhouse",
   "metadata": {},
   "outputs": [
    {
     "name": "stdout",
     "output_type": "stream",
     "text": [
      "tol = 1.00e-04 | error = 3.496e-05\n"
     ]
    }
   ],
   "source": [
    "tol = 1e-4\n",
    "igral, _ = adaptivetrapz(f, a, b, tol, N, hmin, sf)\n",
    "print(f'tol = {tol:.2e} | error = {expected - igral:.3e}')"
   ]
  },
  {
   "cell_type": "code",
   "execution_count": 29,
   "id": "known-gothic",
   "metadata": {},
   "outputs": [
    {
     "name": "stdout",
     "output_type": "stream",
     "text": [
      "tol = 1.00e-06 | error = 4.975e-07\n"
     ]
    }
   ],
   "source": [
    "tol = 1e-6\n",
    "igral, _ = adaptivetrapz(f, a, b, tol, N, hmin, sf)\n",
    "print(f'tol = {tol:.2e} | error = {expected - igral:.3e}')"
   ]
  },
  {
   "cell_type": "code",
   "execution_count": 30,
   "id": "spare-aaron",
   "metadata": {},
   "outputs": [],
   "source": [
    "## f(x) = 1/x\n",
    "## F(x) = ln(x)\n",
    "f    = lambda x: 1/x\n",
    "F    = lambda x: np.log(x) # antiderivative\n",
    "a    = 1\n",
    "b    = 3\n",
    "N    = 4\n",
    "hmin = 1e-9\n",
    "sf   = 0.8\n",
    "\n",
    "expected = F(b) - F(a)"
   ]
  },
  {
   "cell_type": "code",
   "execution_count": 31,
   "id": "coupled-shelter",
   "metadata": {},
   "outputs": [
    {
     "name": "stdout",
     "output_type": "stream",
     "text": [
      "tol = 1.00e-02 | error = -2.452e-03\n"
     ]
    }
   ],
   "source": [
    "tol = 1e-2\n",
    "igral, _ = adaptivetrapz(f, a, b, tol, N, hmin, sf)\n",
    "print(f'tol = {tol:.2e} | error = {expected - igral:.3e}')"
   ]
  },
  {
   "cell_type": "code",
   "execution_count": 32,
   "id": "coated-headset",
   "metadata": {},
   "outputs": [
    {
     "name": "stdout",
     "output_type": "stream",
     "text": [
      "tol = 1.00e-04 | error = -4.635e-05\n"
     ]
    }
   ],
   "source": [
    "tol = 1e-4\n",
    "igral, _ = adaptivetrapz(f, a, b, tol, N, hmin, sf)\n",
    "print(f'tol = {tol:.2e} | error = {expected - igral:.3e}')"
   ]
  },
  {
   "cell_type": "code",
   "execution_count": 33,
   "id": "elder-removal",
   "metadata": {},
   "outputs": [
    {
     "name": "stdout",
     "output_type": "stream",
     "text": [
      "tol = 1.00e-06 | error = -4.094e-07\n"
     ]
    }
   ],
   "source": [
    "tol = 1e-6\n",
    "igral, _ = adaptivetrapz(f, a, b, tol, N, hmin, sf)\n",
    "print(f'tol = {tol:.2e} | error = {expected - igral:.3e}')"
   ]
  },
  {
   "cell_type": "code",
   "execution_count": 34,
   "id": "compound-detroit",
   "metadata": {},
   "outputs": [],
   "source": [
    "## f(x) = x^2\n",
    "## F(x) = x^3/3\n",
    "f    = lambda x: x*x\n",
    "F    = lambda x: x*x*x/3 # antiderivative\n",
    "a    = -3\n",
    "b    = 1\n",
    "N    = 6\n",
    "hmin = 1e-9\n",
    "sf   = 0.8\n",
    "\n",
    "expected = F(b) - F(a)"
   ]
  },
  {
   "cell_type": "code",
   "execution_count": 35,
   "id": "induced-leave",
   "metadata": {},
   "outputs": [
    {
     "name": "stdout",
     "output_type": "stream",
     "text": [
      "tol = 1.00e-02 | error = -4.630e-03\n"
     ]
    }
   ],
   "source": [
    "tol = 1e-2\n",
    "igral, _ = adaptivetrapz(f, a, b, tol, N, hmin, sf)\n",
    "print(f'tol = {tol:.2e} | error = {expected - igral:.3e}')"
   ]
  },
  {
   "cell_type": "code",
   "execution_count": 36,
   "id": "norwegian-commitment",
   "metadata": {},
   "outputs": [
    {
     "name": "stdout",
     "output_type": "stream",
     "text": [
      "tol = 1.00e-04 | error = -7.234e-05\n"
     ]
    }
   ],
   "source": [
    "tol = 1e-4\n",
    "igral, _ = adaptivetrapz(f, a, b, tol, N, hmin, sf)\n",
    "print(f'tol = {tol:.2e} | error = {expected - igral:.3e}')"
   ]
  },
  {
   "cell_type": "code",
   "execution_count": 37,
   "id": "simplified-fifteen",
   "metadata": {},
   "outputs": [
    {
     "name": "stdout",
     "output_type": "stream",
     "text": [
      "tol = 1.00e-06 | error = -2.826e-07\n"
     ]
    }
   ],
   "source": [
    "tol = 1e-6\n",
    "igral, _ = adaptivetrapz(f, a, b, tol, N, hmin, sf)\n",
    "print(f'tol = {tol:.2e} | error = {expected - igral:.3e}')"
   ]
  },
  {
   "cell_type": "markdown",
   "id": "geographic-affect",
   "metadata": {},
   "source": [
    "Indeed, we see that these elementary integrals are evaluated within the expected tolerances (floating-point precision is not a worry here, since we have 15 to 16 significant figures for this data type). Furthermore, despite having the same initial subintervals (i.e. same `N`), the errors remain within one order of magnitude below the tolerated error, as the tolerated errors are decreased several orders of magnitude. This confirms that the adaptive method is in fact zooming in to decrease the error within expected bounds, and suggests that the implementation is robust to arbitrarily small tolerances (up to floating-point precision). Also, the successful evaluation of integrals with both positive and negative errors helps to verify the absolute value of error is taken into account, rather than the signed error itself."
   ]
  },
  {
   "cell_type": "markdown",
   "id": "double-management",
   "metadata": {},
   "source": [
    "Next, we test the safety factor:"
   ]
  },
  {
   "cell_type": "code",
   "execution_count": 38,
   "id": "polished-poster",
   "metadata": {},
   "outputs": [],
   "source": [
    "## f(x) = 1 / (1 + x^2)\n",
    "## F(x) = arctan(x)\n",
    "f    = lambda x: 1 / (1 + x*x)\n",
    "F    = lambda x: np.arctan(x) # antiderivative\n",
    "a    = -1\n",
    "b    = 2\n",
    "tol  = 1e-3\n",
    "N    = 5\n",
    "hmin = 1e-9\n",
    "\n",
    "expected = F(b) - F(a)"
   ]
  },
  {
   "cell_type": "code",
   "execution_count": 39,
   "id": "cubic-listening",
   "metadata": {},
   "outputs": [
    {
     "name": "stdout",
     "output_type": "stream",
     "text": [
      "sf x tol = 8.00e-04 | error = -4.643e-05\n"
     ]
    }
   ],
   "source": [
    "sf = 0.8\n",
    "igral, _ = adaptivetrapz(f, a, b, tol, N, hmin, sf)\n",
    "print(f'sf x tol = {sf * tol:.2e} | error = {expected - igral:.3e}')"
   ]
  },
  {
   "cell_type": "code",
   "execution_count": 40,
   "id": "improving-seminar",
   "metadata": {},
   "outputs": [
    {
     "name": "stdout",
     "output_type": "stream",
     "text": [
      "sf x tol = 2.00e-04 | error = -3.404e-05\n"
     ]
    }
   ],
   "source": [
    "sf = 0.2\n",
    "igral, _ = adaptivetrapz(f, a, b, tol, N, hmin, sf)\n",
    "print(f'sf x tol = {sf * tol:.2e} | error = {expected - igral:.3e}')"
   ]
  },
  {
   "cell_type": "code",
   "execution_count": 41,
   "id": "listed-chicago",
   "metadata": {},
   "outputs": [
    {
     "name": "stdout",
     "output_type": "stream",
     "text": [
      "sf x tol = 5.00e-05 | error = -6.777e-06\n"
     ]
    }
   ],
   "source": [
    "sf = 0.05\n",
    "igral, _ = adaptivetrapz(f, a, b, tol, N, hmin, sf)\n",
    "print(f'sf x tol = {sf * tol:.2e} | error = {expected - igral:.3e}')"
   ]
  },
  {
   "cell_type": "markdown",
   "id": "religious-produce",
   "metadata": {},
   "source": [
    "So decreasing the safety factor (in this context, a smaller safety factor corresponds to a *safer* tolerance) does in fact decrease the error. Of course, there is still a margin between the actual error and the error tolerance with the safety factor included. This is expected given how halving subintervals can make the integral of the subinterval go from being above the error threshold to being well within it. In fact, if we note that the error of a subinterval is $O(h^3)$, then a halving would reduce the error by a factor of $2^3 = 8$. We indeed see that the computed errors are within a factor of 8 of the tolerance with safety factor incorporated. Another potential reduction of error is the cancellation of errors when adding results between subintervals.\\\n",
    "Finally, we check that `hmin` triggers a termination when it is breached."
   ]
  },
  {
   "cell_type": "code",
   "execution_count": 42,
   "id": "associate-north",
   "metadata": {},
   "outputs": [],
   "source": [
    "## f(x) = cos(x)\n",
    "## F(x) = sin(x)\n",
    "f    = lambda x: np.cos(x)\n",
    "F    = lambda x: np.sin(x) # antiderivative\n",
    "a    = -1\n",
    "b    = 2\n",
    "tol  = 1e-6\n",
    "N    = 5\n",
    "sf   = 0.8\n",
    "\n",
    "expected = F(b) - F(a)"
   ]
  },
  {
   "cell_type": "code",
   "execution_count": 43,
   "id": "plastic-seller",
   "metadata": {},
   "outputs": [
    {
     "name": "stdout",
     "output_type": "stream",
     "text": [
      "Smallest h: 2.344e-03\n"
     ]
    }
   ],
   "source": [
    "# This should not trigger an hmin error\n",
    "hmin = 1e-9\n",
    "_, cgrid = adaptivetrapz(f, a, b, tol, N, hmin, sf)\n",
    "hsmall = np.min(np.diff(cgrid))\n",
    "print(f'Smallest h: {hsmall:.3e}')"
   ]
  },
  {
   "cell_type": "code",
   "execution_count": 44,
   "id": "collected-bennett",
   "metadata": {},
   "outputs": [
    {
     "name": "stdout",
     "output_type": "stream",
     "text": [
      "None\n"
     ]
    }
   ],
   "source": [
    "# This should trigger an hmin error i.e. return None\n",
    "hmin = 1.2 * hsmall\n",
    "ans = adaptivetrapz(f, a, b, tol, N, hmin, sf)\n",
    "print(ans)"
   ]
  }
 ],
 "metadata": {
  "kernelspec": {
   "display_name": "Python 3",
   "language": "python",
   "name": "python3"
  },
  "language_info": {
   "codemirror_mode": {
    "name": "ipython",
    "version": 3
   },
   "file_extension": ".py",
   "mimetype": "text/x-python",
   "name": "python",
   "nbconvert_exporter": "python",
   "pygments_lexer": "ipython3",
   "version": "3.9.1"
  }
 },
 "nbformat": 4,
 "nbformat_minor": 5
}
